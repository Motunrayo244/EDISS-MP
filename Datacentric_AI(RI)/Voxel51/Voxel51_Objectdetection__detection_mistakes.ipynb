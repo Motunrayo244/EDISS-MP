{
  "cells": [
    {
      "cell_type": "markdown",
      "metadata": {
        "id": "view-in-github",
        "colab_type": "text"
      },
      "source": [
        "<a href=\"https://colab.research.google.com/github/Motunrayo244/EDISS-MP/blob/main/Datacentric_AI(RI)/Voxel51/Voxel51_Objectdetection__detection_mistakes.ipynb\" target=\"_parent\"><img src=\"https://colab.research.google.com/assets/colab-badge.svg\" alt=\"Open In Colab\"/></a>"
      ]
    },
    {
      "cell_type": "markdown",
      "metadata": {
        "id": "K1bmisr8vbf-"
      },
      "source": [
        "# Finding Detection Mistakes with FiftyOne\n",
        "\n",
        "Annotations mistakes create an artificial ceiling on the performance of your models. However, finding these mistakes by hand is at least as arduous as the original annotation work! Enter FiftyOne.\n",
        "\n",
        "In this tutorial, we explore how FiftyOne can be used to help you find mistakes in your object detection annotations. To detect mistakes in classification datasets, check out [this tutorial](https://voxel51.com/docs/fiftyone/tutorials/classification_mistakes.html).\n",
        "\n",
        "We'll cover the following concepts:\n",
        "\n",
        "- Loading your existing dataset [into FiftyOne](https://voxel51.com/docs/fiftyone/user_guide/dataset_creation/index.html)\n",
        "- [Adding model predictions](https://voxel51.com/docs/fiftyone/recipes/adding_detections.html) to your dataset\n",
        "- Computing insights into your dataset relating to [possible label mistakes](https://voxel51.com/docs/fiftyone/user_guide/brain.html#label-mistakes)\n",
        "- Visualizing mistakes in the [FiftyOne App](https://voxel51.com/docs/fiftyone/user_guide/app.html)\n",
        "\n",
        "**So, what's the takeaway?**\n",
        "\n",
        "FiftyOne can help you find and correct label mistakes in your datasets, enabling you to curate higher quality datasets and, ultimately, train better models!"
      ]
    },
    {
      "cell_type": "markdown",
      "metadata": {
        "id": "qil3F1LHvbgB"
      },
      "source": [
        "## Setup\n",
        "\n",
        "If you haven't already, install FiftyOne:"
      ]
    },
    {
      "cell_type": "code",
      "execution_count": 1,
      "metadata": {
        "id": "b3XBj2HsvbgC"
      },
      "outputs": [],
      "source": [
        "%%capture\n",
        "!pip install fiftyone"
      ]
    },
    {
      "cell_type": "markdown",
      "metadata": {
        "id": "77B4zjJGvbgD"
      },
      "source": [
        "In order to compute mistakenness, your dataset needs to have two [detections fields](https://voxel51.com/docs/fiftyone/user_guide/using_datasets.html#object-detection), one with your ground truth annotations and one with your model predictions.\n",
        "\n",
        "In this example, we'll load the [quickstart dataset](https://voxel51.com/docs/fiftyone/user_guide/dataset_zoo/datasets.html#dataset-zoo-quickstart) from the FiftyOne Dataset Zoo, which has ground truth annotations and predictions from a [PyTorch Faster-RCNN model](https://github.com/pytorch/vision/blob/master/torchvision/models/detection/faster_rcnn.py) for a few samples from the COCO dataset."
      ]
    },
    {
      "cell_type": "code",
      "source": [
        "!wget -nc 'https://cleanlab-public.s3.amazonaws.com/ObjectDetectionBenchmarking/tutorial_obj/example_images.zip' && unzip -q -o example_images.zip"
      ],
      "metadata": {
        "colab": {
          "base_uri": "https://localhost:8080/"
        },
        "id": "0tKy8l7zfTZ6",
        "outputId": "1163135c-bde2-49c8-e8b4-af849edc5b73"
      },
      "execution_count": 2,
      "outputs": [
        {
          "output_type": "stream",
          "name": "stdout",
          "text": [
            "--2024-03-05 02:10:08--  https://cleanlab-public.s3.amazonaws.com/ObjectDetectionBenchmarking/tutorial_obj/example_images.zip\n",
            "Resolving cleanlab-public.s3.amazonaws.com (cleanlab-public.s3.amazonaws.com)... 52.216.216.233, 52.217.199.121, 52.217.162.9, ...\n",
            "Connecting to cleanlab-public.s3.amazonaws.com (cleanlab-public.s3.amazonaws.com)|52.216.216.233|:443... connected.\n",
            "HTTP request sent, awaiting response... 200 OK\n",
            "Length: 17340957 (17M) [application/zip]\n",
            "Saving to: ‘example_images.zip’\n",
            "\n",
            "example_images.zip  100%[===================>]  16.54M  20.4MB/s    in 0.8s    \n",
            "\n",
            "2024-03-05 02:10:09 (20.4 MB/s) - ‘example_images.zip’ saved [17340957/17340957]\n",
            "\n"
          ]
        }
      ]
    },
    {
      "cell_type": "code",
      "source": [
        "! wget -nc http://images.cocodataset.org/annotations/annotations_trainval2017.zip && unzip -q -o annotations_trainval2017.zip"
      ],
      "metadata": {
        "colab": {
          "base_uri": "https://localhost:8080/"
        },
        "id": "I2_Vc8pcwdTi",
        "outputId": "ffed7605-a32e-4581-f48d-6ffe2a9fc581"
      },
      "execution_count": 3,
      "outputs": [
        {
          "output_type": "stream",
          "name": "stdout",
          "text": [
            "--2024-03-05 02:10:10--  http://images.cocodataset.org/annotations/annotations_trainval2017.zip\n",
            "Resolving images.cocodataset.org (images.cocodataset.org)... 3.5.25.92, 54.231.135.241, 54.231.161.17, ...\n",
            "Connecting to images.cocodataset.org (images.cocodataset.org)|3.5.25.92|:80... connected.\n",
            "HTTP request sent, awaiting response... 200 OK\n",
            "Length: 252907541 (241M) [application/zip]\n",
            "Saving to: ‘annotations_trainval2017.zip’\n",
            "\n",
            "annotations_trainva 100%[===================>] 241.19M  39.0MB/s    in 6.4s    \n",
            "\n",
            "2024-03-05 02:10:16 (37.6 MB/s) - ‘annotations_trainval2017.zip’ saved [252907541/252907541]\n",
            "\n"
          ]
        }
      ]
    },
    {
      "cell_type": "code",
      "source": [
        "import random\n",
        "import pickle\n",
        "import fiftyone as fo\n",
        "import fiftyone.zoo as foz\n",
        "import json\n",
        "import requests\n",
        "import os"
      ],
      "metadata": {
        "id": "6vrTd5hqaaEW",
        "colab": {
          "base_uri": "https://localhost:8080/"
        },
        "outputId": "1938bbf7-d4ed-41a6-d018-6be7633287f4"
      },
      "execution_count": 4,
      "outputs": [
        {
          "output_type": "stream",
          "name": "stdout",
          "text": [
            "Migrating database to v0.23.5\n"
          ]
        },
        {
          "output_type": "stream",
          "name": "stderr",
          "text": [
            "INFO:fiftyone.migrations.runner:Migrating database to v0.23.5\n"
          ]
        }
      ]
    },
    {
      "cell_type": "code",
      "source": [
        "directory = '/content/example_images'\n",
        "files = os.listdir(directory)\n",
        "# Filtering only the files.\n",
        "sample_files = [f for f in files if os.path.isfile(directory+'/'+f)]\n",
        "pickle.dump(sample_files, open('sample_images.pkl','wb'))"
      ],
      "metadata": {
        "id": "iYDtQ6X1adMJ"
      },
      "execution_count": 5,
      "outputs": []
    },
    {
      "cell_type": "code",
      "source": [
        "# List of selected image file names\n",
        "sample_image_list = pickle.load(open(\"/content/sample_images.pkl\", \"rb\"))\n",
        "\n",
        "# Path to the COCO annotations file\n",
        "annotations_path = '/content/annotations/instances_val2017.json'\n",
        "\n",
        "# Load COCO annotations\n",
        "with open(annotations_path) as f:\n",
        "    coco_data = json.load(f)\n",
        "\n",
        "# Filter images and annotations\n",
        "info = coco_data['info']\n",
        "licenses = coco_data['licenses']\n",
        "filtered_images = [img for img in coco_data['images'] if img['file_name'] in sample_image_list]\n",
        "image_ids = {img['id']: img for img in filtered_images}\n",
        "filtered_annotations = [ann for ann in coco_data['annotations'] if ann['image_id'] in image_ids and ann['category_id'] in [1,3,10,47,62]]\n",
        "\n",
        "# Save filtered annotations to a new JSON file\n",
        "filtered_data = {\n",
        "    \"info\": info,\n",
        "    \"licenses\":licenses,\n",
        "    \"images\": filtered_images,\n",
        "    \"annotations\": filtered_annotations,\n",
        "    \"categories\": coco_data['categories']  # Preserve category info\n",
        "}\n",
        "with open('annotations/filtered_annotations.json', 'w') as f:\n",
        "    json.dump(filtered_data, f, indent=4)\n"
      ],
      "metadata": {
        "id": "w8WV3hrSccj4"
      },
      "execution_count": 6,
      "outputs": []
    },
    {
      "cell_type": "code",
      "source": [
        "# Path to the COCO annotations file\n",
        "annotations_path = '/content/annotations/filtered_annotations.json'\n",
        "\n",
        "# Load COCO annotations\n",
        "with open(annotations_path) as f:\n",
        "    coco_data = json.load(f)\n",
        "\n",
        "# Count the number of annotations\n",
        "num_annotations = len(coco_data['images'])\n",
        "\n",
        "print(f\"Number of annotations: {num_annotations}\")\n"
      ],
      "metadata": {
        "colab": {
          "base_uri": "https://localhost:8080/"
        },
        "id": "1n3XvvBZe6SW",
        "outputId": "f410a535-de86-473e-f7c4-f7b2135fc90e"
      },
      "execution_count": 7,
      "outputs": [
        {
          "output_type": "stream",
          "name": "stdout",
          "text": [
            "Number of annotations: 118\n"
          ]
        }
      ]
    },
    {
      "cell_type": "code",
      "source": [
        "IMAGES_DIR = '/content/example_images/'\n",
        "# Load COCO formatted dataset\n",
        "coco_dataset = fo.Dataset.from_dir(\n",
        "    dataset_type=fo.types.COCODetectionDataset,\n",
        "    data_path=IMAGES_DIR,\n",
        "    labels_path=\"/content/annotations/filtered_annotations.json\",\n",
        "    include_id=True,\n",
        "    name = 'cleanlab_coco_sample_dataset'\n",
        ")"
      ],
      "metadata": {
        "colab": {
          "base_uri": "https://localhost:8080/"
        },
        "id": "k5cxR4TAqzMF",
        "outputId": "8a4a31d6-e6ac-48a0-c023-26aee9d8b7ac"
      },
      "execution_count": 8,
      "outputs": [
        {
          "output_type": "stream",
          "name": "stdout",
          "text": [
            " 100% |█████████████████| 118/118 [2.4s elapsed, 0s remaining, 54.7 samples/s]      \n"
          ]
        },
        {
          "output_type": "stream",
          "name": "stderr",
          "text": [
            "INFO:eta.core.utils: 100% |█████████████████| 118/118 [2.4s elapsed, 0s remaining, 54.7 samples/s]      \n"
          ]
        }
      ]
    },
    {
      "cell_type": "code",
      "source": [
        "print(coco_dataset)"
      ],
      "metadata": {
        "colab": {
          "base_uri": "https://localhost:8080/"
        },
        "id": "gUuXxfphv7fa",
        "outputId": "e889533b-9c6b-432c-a308-c95b47682598"
      },
      "execution_count": 9,
      "outputs": [
        {
          "output_type": "stream",
          "name": "stdout",
          "text": [
            "Name:        cleanlab_coco_sample_dataset\n",
            "Media type:  image\n",
            "Num samples: 118\n",
            "Persistent:  False\n",
            "Tags:        []\n",
            "Sample fields:\n",
            "    id:            fiftyone.core.fields.ObjectIdField\n",
            "    filepath:      fiftyone.core.fields.StringField\n",
            "    tags:          fiftyone.core.fields.ListField(fiftyone.core.fields.StringField)\n",
            "    metadata:      fiftyone.core.fields.EmbeddedDocumentField(fiftyone.core.metadata.ImageMetadata)\n",
            "    detections:    fiftyone.core.fields.EmbeddedDocumentField(fiftyone.core.labels.Detections)\n",
            "    segmentations: fiftyone.core.fields.EmbeddedDocumentField(fiftyone.core.labels.Detections)\n",
            "    coco_id:       fiftyone.core.fields.IntField\n"
          ]
        }
      ]
    },
    {
      "cell_type": "code",
      "execution_count": 10,
      "metadata": {
        "id": "HCGsRPu2vbgE",
        "outputId": "18ce402c-fc5b-4b44-9105-3a3a6d9344b8",
        "colab": {
          "base_uri": "https://localhost:8080/"
        }
      },
      "outputs": [
        {
          "output_type": "stream",
          "name": "stdout",
          "text": [
            "<Detections: {\n",
            "    'detections': [\n",
            "        <Detection: {\n",
            "            'id': '65e67f29f724d5c225b8900d',\n",
            "            'attributes': {},\n",
            "            'tags': [],\n",
            "            'label': 'person',\n",
            "            'bounding_box': [\n",
            "                0.701359375,\n",
            "                0.3757460317460317,\n",
            "                0.07953125,\n",
            "                0.3899365079365079,\n",
            "            ],\n",
            "            'mask': None,\n",
            "            'confidence': None,\n",
            "            'index': None,\n",
            "            'supercategory': 'person',\n",
            "            'iscrowd': 0,\n",
            "        }>,\n",
            "    ],\n",
            "}>\n"
          ]
        }
      ],
      "source": [
        "# Print a sample ground truth detection\n",
        "sample = coco_dataset.first()\n",
        "print(sample.detections)"
      ]
    },
    {
      "cell_type": "markdown",
      "metadata": {
        "id": "SD5ZVTy1vbgE"
      },
      "source": [
        "Let's start by visualizing the dataset in the [FiftyOne App](https://voxel51.com/docs/fiftyone/user_guide/app.html):"
      ]
    },
    {
      "cell_type": "markdown",
      "source": [
        "[ ]\n",
        "# Inspect some samples and detections\n",
        "# This is the first detection of the first sample\n",
        "print(mistake_view.first().ground_truth.detections[0])\n",
        "<Detection: {\n",
        "    'id': '5f452487ef00e6374aad2744',\n",
        "    'attributes': BaseDict({}),\n",
        "    'tags': BaseList([]),\n",
        "    'label': 'tv',\n",
        "    'bounding_box': BaseList([\n",
        "        0.002746666666666667,\n",
        "        0.36082,\n",
        "        0.24466666666666667,\n",
        "        0.3732,\n",
        "    ]),\n",
        "    'mask': None,\n",
        "    'confidence': None,\n",
        "    'index': None,\n",
        "    'area': 16273.3536,\n",
        "    'iscrowd': 0.0,\n",
        "    'mistakenness': 0.005771428346633911,\n",
        "    'mistakenness_loc': 0.16955941131917984,\n",
        "}>"
      ],
      "metadata": {
        "id": "DRxcVFt_2XmU"
      }
    },
    {
      "cell_type": "code",
      "execution_count": 12,
      "metadata": {
        "id": "b2Y92ojsvbgE",
        "outputId": "76614e80-5d4c-4f6c-820f-f7970da6f807",
        "colab": {
          "base_uri": "https://localhost:8080/",
          "height": 1000
        }
      },
      "outputs": [
        {
          "output_type": "display_data",
          "data": {
            "text/plain": [
              "<IPython.core.display.HTML object>"
            ],
            "text/html": [
              "\n",
              "<style>\n",
              "\n",
              "@import url(\"https://fonts.googleapis.com/css2?family=Palanquin&display=swap\");\n",
              "\n",
              "body, html {\n",
              "  margin: 0;\n",
              "  padding: 0;\n",
              "  width: 100%;\n",
              "}\n",
              "\n",
              "#focontainer-c8fa37cf-d4a7-4133-b046-7af3ad33584e {\n",
              "  position: relative;\n",
              "  height: px;\n",
              "  display: block !important;\n",
              "}\n",
              "#foactivate-c8fa37cf-d4a7-4133-b046-7af3ad33584e {\n",
              "  font-weight: bold;\n",
              "  cursor: pointer;\n",
              "  font-size: 24px;\n",
              "  border-radius: 3px;\n",
              "  text-align: center;\n",
              "  padding: 0.5em;\n",
              "  color: rgb(255, 255, 255);\n",
              "  font-family: \"Palanquin\", sans-serif;\n",
              "  position: absolute;\n",
              "  left: 50%;\n",
              "  top: 50%;\n",
              "  width: 160px;\n",
              "  margin-left: -80px;\n",
              "  margin-top: -23px;\n",
              "  background: hsla(210,11%,15%, 0.8);\n",
              "  border: none;\n",
              "}\n",
              "#foactivate-c8fa37cf-d4a7-4133-b046-7af3ad33584e:focus {\n",
              "  outline: none;\n",
              "}\n",
              "#fooverlay-c8fa37cf-d4a7-4133-b046-7af3ad33584e {\n",
              "  width: 100%;\n",
              "  height: 100%;\n",
              "  background: hsla(208, 7%, 46%, 0.7);\n",
              "  position: absolute;\n",
              "  top: 0;\n",
              "  left: 0;\n",
              "  display: none;\n",
              "  cursor: pointer;\n",
              "}\n",
              "</style>\n",
              "<div id=\"focontainer-c8fa37cf-d4a7-4133-b046-7af3ad33584e\" style=\"display: none;\">\n",
              "   <div id=\"fooverlay-c8fa37cf-d4a7-4133-b046-7af3ad33584e\">\n",
              "      <button id=\"foactivate-c8fa37cf-d4a7-4133-b046-7af3ad33584e\" >Activate</button>\n",
              "   </div>\n",
              "</div>"
            ]
          },
          "metadata": {}
        },
        {
          "output_type": "stream",
          "name": "stdout",
          "text": [
            "\n",
            "Welcome to\n",
            "\n",
            "███████╗██╗███████╗████████╗██╗   ██╗ ██████╗ ███╗   ██╗███████╗\n",
            "██╔════╝██║██╔════╝╚══██╔══╝╚██╗ ██╔╝██╔═══██╗████╗  ██║██╔════╝\n",
            "█████╗  ██║█████╗     ██║    ╚████╔╝ ██║   ██║██╔██╗ ██║█████╗\n",
            "██╔══╝  ██║██╔══╝     ██║     ╚██╔╝  ██║   ██║██║╚██╗██║██╔══╝\n",
            "██║     ██║██║        ██║      ██║   ╚██████╔╝██║ ╚████║███████╗\n",
            "╚═╝     ╚═╝╚═╝        ╚═╝      ╚═╝    ╚═════╝ ╚═╝  ╚═══╝╚══════╝ v0.23.5\n",
            "\n",
            "If you're finding FiftyOne helpful, here's how you can get involved:\n",
            "\n",
            "|\n",
            "|  ⭐⭐⭐ Give the project a star on GitHub ⭐⭐⭐\n",
            "|  https://github.com/voxel51/fiftyone\n",
            "|\n",
            "|  🚀🚀🚀 Join the FiftyOne Slack community 🚀🚀🚀\n",
            "|  https://slack.voxel51.com\n",
            "|\n",
            "\n"
          ]
        },
        {
          "output_type": "stream",
          "name": "stderr",
          "text": [
            "INFO:fiftyone.core.session.session:\n",
            "Welcome to\n",
            "\n",
            "███████╗██╗███████╗████████╗██╗   ██╗ ██████╗ ███╗   ██╗███████╗\n",
            "██╔════╝██║██╔════╝╚══██╔══╝╚██╗ ██╔╝██╔═══██╗████╗  ██║██╔════╝\n",
            "█████╗  ██║█████╗     ██║    ╚████╔╝ ██║   ██║██╔██╗ ██║█████╗\n",
            "██╔══╝  ██║██╔══╝     ██║     ╚██╔╝  ██║   ██║██║╚██╗██║██╔══╝\n",
            "██║     ██║██║        ██║      ██║   ╚██████╔╝██║ ╚████║███████╗\n",
            "╚═╝     ╚═╝╚═╝        ╚═╝      ╚═╝    ╚═════╝ ╚═╝  ╚═══╝╚══════╝ v0.23.5\n",
            "\n",
            "If you're finding FiftyOne helpful, here's how you can get involved:\n",
            "\n",
            "|\n",
            "|  ⭐⭐⭐ Give the project a star on GitHub ⭐⭐⭐\n",
            "|  https://github.com/voxel51/fiftyone\n",
            "|\n",
            "|  🚀🚀🚀 Join the FiftyOne Slack community 🚀🚀🚀\n",
            "|  https://slack.voxel51.com\n",
            "|\n",
            "\n"
          ]
        }
      ],
      "source": [
        "# Open the dataset in the App\n",
        "session = fo.launch_app(coco_dataset)"
      ]
    },
    {
      "cell_type": "markdown",
      "metadata": {
        "id": "qrvteLu7vbgF"
      },
      "source": [
        "When working with FiftyOne datasets that contain a field with `Detections`, you can create a [patches view](https://voxel51.com/docs/fiftyone/user_guide/app.html#viewing-object-patches) both through Python and directly in the FiftyOne App to view each detection as a separate sample."
      ]
    },
    {
      "cell_type": "code",
      "execution_count": 13,
      "metadata": {
        "id": "3HsEZvLevbgF",
        "outputId": "2e00150a-578b-446e-f0ad-44202cff1a71",
        "colab": {
          "base_uri": "https://localhost:8080/"
        }
      },
      "outputs": [
        {
          "output_type": "stream",
          "name": "stdout",
          "text": [
            "Dataset:     cleanlab_coco_sample_dataset\n",
            "Media type:  image\n",
            "Num patches: 326\n",
            "Patch fields:\n",
            "    id:         fiftyone.core.fields.ObjectIdField\n",
            "    sample_id:  fiftyone.core.fields.ObjectIdField\n",
            "    filepath:   fiftyone.core.fields.StringField\n",
            "    tags:       fiftyone.core.fields.ListField(fiftyone.core.fields.StringField)\n",
            "    metadata:   fiftyone.core.fields.EmbeddedDocumentField(fiftyone.core.metadata.ImageMetadata)\n",
            "    detections: fiftyone.core.fields.EmbeddedDocumentField(fiftyone.core.labels.Detection)\n",
            "View stages:\n",
            "    1. ToPatches(field='detections', config=None)\n"
          ]
        }
      ],
      "source": [
        "patches_view = coco_dataset.to_patches(\"detections\")\n",
        "print(patches_view)"
      ]
    },
    {
      "cell_type": "markdown",
      "metadata": {
        "id": "yAo1MbwPvbgF"
      },
      "source": [
        "Let's open the App and click the [patches button](https://voxel51.com/docs/fiftyone/user_guide/app.html#viewing-object-patches), then select `ground_truth` to create the same view that we created above."
      ]
    },
    {
      "cell_type": "code",
      "execution_count": 20,
      "metadata": {
        "id": "ISZ37Op0vbgF",
        "outputId": "51f6b9e9-2bac-41be-b18b-1bae2705c738",
        "colab": {
          "base_uri": "https://localhost:8080/",
          "height": 804
        }
      },
      "outputs": [
        {
          "output_type": "display_data",
          "data": {
            "text/plain": [
              "<IPython.core.display.HTML object>"
            ],
            "text/html": [
              "\n",
              "<style>\n",
              "\n",
              "@import url(\"https://fonts.googleapis.com/css2?family=Palanquin&display=swap\");\n",
              "\n",
              "body, html {\n",
              "  margin: 0;\n",
              "  padding: 0;\n",
              "  width: 100%;\n",
              "}\n",
              "\n",
              "#focontainer-69e16400-e81c-41e9-9b37-63ddc11ad8b7 {\n",
              "  position: relative;\n",
              "  height: px;\n",
              "  display: block !important;\n",
              "}\n",
              "#foactivate-69e16400-e81c-41e9-9b37-63ddc11ad8b7 {\n",
              "  font-weight: bold;\n",
              "  cursor: pointer;\n",
              "  font-size: 24px;\n",
              "  border-radius: 3px;\n",
              "  text-align: center;\n",
              "  padding: 0.5em;\n",
              "  color: rgb(255, 255, 255);\n",
              "  font-family: \"Palanquin\", sans-serif;\n",
              "  position: absolute;\n",
              "  left: 50%;\n",
              "  top: 50%;\n",
              "  width: 160px;\n",
              "  margin-left: -80px;\n",
              "  margin-top: -23px;\n",
              "  background: hsla(210,11%,15%, 0.8);\n",
              "  border: none;\n",
              "}\n",
              "#foactivate-69e16400-e81c-41e9-9b37-63ddc11ad8b7:focus {\n",
              "  outline: none;\n",
              "}\n",
              "#fooverlay-69e16400-e81c-41e9-9b37-63ddc11ad8b7 {\n",
              "  width: 100%;\n",
              "  height: 100%;\n",
              "  background: hsla(208, 7%, 46%, 0.7);\n",
              "  position: absolute;\n",
              "  top: 0;\n",
              "  left: 0;\n",
              "  display: none;\n",
              "  cursor: pointer;\n",
              "}\n",
              "</style>\n",
              "<div id=\"focontainer-69e16400-e81c-41e9-9b37-63ddc11ad8b7\" style=\"display: none;\">\n",
              "   <div id=\"fooverlay-69e16400-e81c-41e9-9b37-63ddc11ad8b7\">\n",
              "      <button id=\"foactivate-69e16400-e81c-41e9-9b37-63ddc11ad8b7\" >Activate</button>\n",
              "   </div>\n",
              "</div>"
            ]
          },
          "metadata": {}
        }
      ],
      "source": [
        "session = fo.launch_app(coco_dataset)"
      ]
    },
    {
      "cell_type": "markdown",
      "source": [
        "## Adding Model Prediction"
      ],
      "metadata": {
        "id": "xnxpzCPK7Dyn"
      }
    },
    {
      "cell_type": "code",
      "source": [
        "import torch\n",
        "import torchvision\n",
        "from torchvision.models.detection import FasterRCNN_ResNet50_FPN_Weights\n",
        "\n",
        "# Run the model on GPU if it is available\n",
        "device = torch.device(\"cuda:0\" if torch.cuda.is_available() else \"cpu\")\n",
        "\n",
        "# Load a pre-trained Faster R-CNN model\n",
        "model = torchvision.models.detection.fasterrcnn_resnet50_fpn(weights=FasterRCNN_ResNet50_FPN_Weights.DEFAULT)\n",
        "model.to(device)\n",
        "model.eval()\n",
        "\n",
        "print(\"Model ready\")"
      ],
      "metadata": {
        "colab": {
          "base_uri": "https://localhost:8080/"
        },
        "id": "zn-V7jRh7Diq",
        "outputId": "6fd89dec-2ee8-46c2-f308-4be90276973f"
      },
      "execution_count": 16,
      "outputs": [
        {
          "output_type": "stream",
          "name": "stderr",
          "text": [
            "Downloading: \"https://download.pytorch.org/models/fasterrcnn_resnet50_fpn_coco-258fb6c6.pth\" to /root/.cache/torch/hub/checkpoints/fasterrcnn_resnet50_fpn_coco-258fb6c6.pth\n",
            "100%|██████████| 160M/160M [00:01<00:00, 129MB/s]\n"
          ]
        },
        {
          "output_type": "stream",
          "name": "stdout",
          "text": [
            "Model ready\n"
          ]
        }
      ]
    },
    {
      "cell_type": "code",
      "source": [
        "from PIL import Image\n",
        "from torchvision.transforms import functional as func\n",
        "\n",
        "import fiftyone as fo\n",
        "\n",
        "# Get class list\n",
        "classes = coco_dataset.default_classes\n",
        "\n",
        "# Add predictions to samples\n",
        "with fo.ProgressBar() as pb:\n",
        "    for sample in pb(coco_dataset):\n",
        "        # Load image\n",
        "        image = Image.open(sample.filepath)\n",
        "        image = func.to_tensor(image).to(device)\n",
        "        c, h, w = image.shape\n",
        "\n",
        "        # Perform inference\n",
        "        preds = model([image])[0]\n",
        "        labels = preds[\"labels\"].cpu().detach().numpy()\n",
        "        scores = preds[\"scores\"].cpu().detach().numpy()\n",
        "        boxes = preds[\"boxes\"].cpu().detach().numpy()\n",
        "\n",
        "        # Convert detections to FiftyOne format\n",
        "        detections = []\n",
        "        for label, score, box in zip(labels, scores, boxes):\n",
        "          if label in [1,3,10,47,62]:\n",
        "            # Convert to [top-left-x, top-left-y, width, height]\n",
        "            # in relative coordinates in [0, 1] x [0, 1]\n",
        "            x1, y1, x2, y2 = box\n",
        "            rel_box = [x1 / w, y1 / h, (x2 - x1) / w, (y2 - y1) / h]\n",
        "\n",
        "            detections.append(\n",
        "                fo.Detection(\n",
        "                    label=classes[label],\n",
        "                    bounding_box=rel_box,\n",
        "                    confidence=score\n",
        "                )\n",
        "            )\n",
        "\n",
        "        # Save predictions to dataset\n",
        "        sample[\"predictions\"] = fo.Detections(detections=detections)\n",
        "        sample.save()"
      ],
      "metadata": {
        "colab": {
          "base_uri": "https://localhost:8080/"
        },
        "id": "OLOoMtPl8Um3",
        "outputId": "4852ad27-0d3a-4c0f-cbf2-df244052ca67"
      },
      "execution_count": 22,
      "outputs": [
        {
          "output_type": "stream",
          "name": "stdout",
          "text": [
            " 100% |█████████████████| 118/118 [22.6m elapsed, 0s remaining, 0.1 samples/s]    \n"
          ]
        },
        {
          "output_type": "stream",
          "name": "stderr",
          "text": [
            "INFO:eta.core.utils: 100% |█████████████████| 118/118 [22.6m elapsed, 0s remaining, 0.1 samples/s]    \n"
          ]
        }
      ]
    },
    {
      "cell_type": "code",
      "source": [
        "print(coco_dataset)"
      ],
      "metadata": {
        "colab": {
          "base_uri": "https://localhost:8080/"
        },
        "id": "I1OLm_x27De-",
        "outputId": "6becf62d-7a44-4a66-f1cb-764e9610f59a"
      },
      "execution_count": 26,
      "outputs": [
        {
          "output_type": "stream",
          "name": "stdout",
          "text": [
            "Name:        cleanlab_coco_sample_dataset\n",
            "Media type:  image\n",
            "Num samples: 118\n",
            "Persistent:  False\n",
            "Tags:        []\n",
            "Sample fields:\n",
            "    id:            fiftyone.core.fields.ObjectIdField\n",
            "    filepath:      fiftyone.core.fields.StringField\n",
            "    tags:          fiftyone.core.fields.ListField(fiftyone.core.fields.StringField)\n",
            "    metadata:      fiftyone.core.fields.EmbeddedDocumentField(fiftyone.core.metadata.ImageMetadata)\n",
            "    detections:    fiftyone.core.fields.EmbeddedDocumentField(fiftyone.core.labels.Detections)\n",
            "    segmentations: fiftyone.core.fields.EmbeddedDocumentField(fiftyone.core.labels.Detections)\n",
            "    coco_id:       fiftyone.core.fields.IntField\n",
            "    predictions:   fiftyone.core.fields.EmbeddedDocumentField(fiftyone.core.labels.Detections)\n"
          ]
        }
      ]
    },
    {
      "cell_type": "code",
      "source": [
        "predicted_view = coco_dataset.to_patches(\"predictions\")\n",
        "print(predicted_view)"
      ],
      "metadata": {
        "colab": {
          "base_uri": "https://localhost:8080/"
        },
        "id": "K5f8vgkYKZU5",
        "outputId": "4a921323-8a7e-4ed7-ab1f-d37ce9d36efb"
      },
      "execution_count": 27,
      "outputs": [
        {
          "output_type": "stream",
          "name": "stdout",
          "text": [
            "Dataset:     cleanlab_coco_sample_dataset\n",
            "Media type:  image\n",
            "Num patches: 1078\n",
            "Patch fields:\n",
            "    id:          fiftyone.core.fields.ObjectIdField\n",
            "    sample_id:   fiftyone.core.fields.ObjectIdField\n",
            "    filepath:    fiftyone.core.fields.StringField\n",
            "    tags:        fiftyone.core.fields.ListField(fiftyone.core.fields.StringField)\n",
            "    metadata:    fiftyone.core.fields.EmbeddedDocumentField(fiftyone.core.metadata.ImageMetadata)\n",
            "    predictions: fiftyone.core.fields.EmbeddedDocumentField(fiftyone.core.labels.Detection)\n",
            "View stages:\n",
            "    1. ToPatches(field='predictions', config=None)\n"
          ]
        }
      ]
    },
    {
      "cell_type": "code",
      "source": [
        "session = fo.launch_app(coco_dataset)"
      ],
      "metadata": {
        "colab": {
          "base_uri": "https://localhost:8080/",
          "height": 804
        },
        "id": "N5yZ5jXU7DXa",
        "outputId": "13f6ec00-1021-446e-e3c7-a07824c8f4ab"
      },
      "execution_count": 28,
      "outputs": [
        {
          "output_type": "display_data",
          "data": {
            "text/plain": [
              "<IPython.core.display.HTML object>"
            ],
            "text/html": [
              "\n",
              "<style>\n",
              "\n",
              "@import url(\"https://fonts.googleapis.com/css2?family=Palanquin&display=swap\");\n",
              "\n",
              "body, html {\n",
              "  margin: 0;\n",
              "  padding: 0;\n",
              "  width: 100%;\n",
              "}\n",
              "\n",
              "#focontainer-f8e27727-3d5d-4ff5-8f42-b2cbc2e96a7a {\n",
              "  position: relative;\n",
              "  height: px;\n",
              "  display: block !important;\n",
              "}\n",
              "#foactivate-f8e27727-3d5d-4ff5-8f42-b2cbc2e96a7a {\n",
              "  font-weight: bold;\n",
              "  cursor: pointer;\n",
              "  font-size: 24px;\n",
              "  border-radius: 3px;\n",
              "  text-align: center;\n",
              "  padding: 0.5em;\n",
              "  color: rgb(255, 255, 255);\n",
              "  font-family: \"Palanquin\", sans-serif;\n",
              "  position: absolute;\n",
              "  left: 50%;\n",
              "  top: 50%;\n",
              "  width: 160px;\n",
              "  margin-left: -80px;\n",
              "  margin-top: -23px;\n",
              "  background: hsla(210,11%,15%, 0.8);\n",
              "  border: none;\n",
              "}\n",
              "#foactivate-f8e27727-3d5d-4ff5-8f42-b2cbc2e96a7a:focus {\n",
              "  outline: none;\n",
              "}\n",
              "#fooverlay-f8e27727-3d5d-4ff5-8f42-b2cbc2e96a7a {\n",
              "  width: 100%;\n",
              "  height: 100%;\n",
              "  background: hsla(208, 7%, 46%, 0.7);\n",
              "  position: absolute;\n",
              "  top: 0;\n",
              "  left: 0;\n",
              "  display: none;\n",
              "  cursor: pointer;\n",
              "}\n",
              "</style>\n",
              "<div id=\"focontainer-f8e27727-3d5d-4ff5-8f42-b2cbc2e96a7a\" style=\"display: none;\">\n",
              "   <div id=\"fooverlay-f8e27727-3d5d-4ff5-8f42-b2cbc2e96a7a\">\n",
              "      <button id=\"foactivate-f8e27727-3d5d-4ff5-8f42-b2cbc2e96a7a\" >Activate</button>\n",
              "   </div>\n",
              "</div>"
            ]
          },
          "metadata": {}
        }
      ]
    },
    {
      "cell_type": "markdown",
      "metadata": {
        "id": "dYsOGI26vbgG"
      },
      "source": [
        "## Compute mistakenness\n",
        "\n",
        "Now we're ready to assess the mistakenness of the ground truth detections.\n",
        "\n",
        "We can do so by running the [compute_mistakenness()](https://voxel51.com/docs/fiftyone/api/fiftyone.brain.html#fiftyone.brain.compute_mistakenness) method from the FiftyOne Brain:"
      ]
    },
    {
      "cell_type": "code",
      "execution_count": 29,
      "metadata": {
        "id": "bfs5CTHhvbgG",
        "outputId": "3613acf5-6301-4f67-b791-88195e057981",
        "colab": {
          "base_uri": "https://localhost:8080/"
        }
      },
      "outputs": [
        {
          "output_type": "stream",
          "name": "stdout",
          "text": [
            "Evaluating detections...\n"
          ]
        },
        {
          "output_type": "stream",
          "name": "stderr",
          "text": [
            "INFO:fiftyone.utils.eval.detection:Evaluating detections...\n"
          ]
        },
        {
          "output_type": "stream",
          "name": "stdout",
          "text": [
            " 100% |█████████████████| 118/118 [8.1s elapsed, 0s remaining, 10.5 samples/s]      \n"
          ]
        },
        {
          "output_type": "stream",
          "name": "stderr",
          "text": [
            "INFO:eta.core.utils: 100% |█████████████████| 118/118 [8.1s elapsed, 0s remaining, 10.5 samples/s]      \n"
          ]
        },
        {
          "output_type": "stream",
          "name": "stdout",
          "text": [
            "Computing mistakenness...\n"
          ]
        },
        {
          "output_type": "stream",
          "name": "stderr",
          "text": [
            "INFO:fiftyone.brain.internal.core.mistakenness:Computing mistakenness...\n"
          ]
        },
        {
          "output_type": "stream",
          "name": "stdout",
          "text": [
            " 100% |█████████████████| 118/118 [3.8s elapsed, 0s remaining, 18.7 samples/s]      \n"
          ]
        },
        {
          "output_type": "stream",
          "name": "stderr",
          "text": [
            "INFO:eta.core.utils: 100% |█████████████████| 118/118 [3.8s elapsed, 0s remaining, 18.7 samples/s]      \n"
          ]
        },
        {
          "output_type": "stream",
          "name": "stdout",
          "text": [
            "Mistakenness computation complete\n"
          ]
        },
        {
          "output_type": "stream",
          "name": "stderr",
          "text": [
            "INFO:fiftyone.brain.internal.core.mistakenness:Mistakenness computation complete\n"
          ]
        }
      ],
      "source": [
        "import fiftyone.brain as fob\n",
        "\n",
        "# Compute mistakenness of annotations in `ground_truth` field using\n",
        "# predictions from `predictions` field as point of reference\n",
        "fob.compute_mistakenness(coco_dataset, \"predictions\", label_field=\"detections\")"
      ]
    },
    {
      "cell_type": "markdown",
      "metadata": {
        "id": "DWohdHoEvbgH"
      },
      "source": [
        "The above method populates a number of fields on the samples of our dataset as well as the ground truth and predicted objects:\n",
        "\n",
        "New ground truth object attributes (in `detection` field):\n",
        "\n",
        "- `mistakenness` (float): A measure of the likelihood that a ground truth object's label is incorrect\n",
        "- `mistakenness_loc`: A measure of the likelihood that a ground truth object's localization (bounding box) is inaccurate\n",
        "- `possible_spurious`: Ground truth objects that were not matched with a predicted object and are deemed to be likely spurious annotations will have this attribute set to True\n",
        "\n",
        "New predicted object attributes (in `predictions` field):\n",
        "\n",
        "- `possible_missing`: If a highly confident prediction with no matching ground truth object is encountered, this attribute is set to True to indicate that it is a likely missing ground truth annotation\n",
        "\n",
        "Sample-level fields:\n",
        "\n",
        "- `mistakenness`: The maximum mistakenness of the ground truth objects in each sample\n",
        "- `possible_spurious`: The number of possible spurious ground truth objects in each sample\n",
        "- `possible_missing`: The number of possible missing ground truth objects in each sample"
      ]
    },
    {
      "cell_type": "markdown",
      "metadata": {
        "id": "LZQNgzcivbgH"
      },
      "source": [
        "## Analyzing the results\n",
        "\n",
        "Let's use FiftyOne to investigate the results.\n",
        "\n",
        "First, let's show the samples with the most likely annotation mistakes:"
      ]
    },
    {
      "cell_type": "code",
      "execution_count": 30,
      "metadata": {
        "scrolled": true,
        "id": "hqLyVG9_vbgH",
        "outputId": "50f976ce-42c7-48d6-ad1c-5df0a93999bf",
        "colab": {
          "base_uri": "https://localhost:8080/"
        }
      },
      "outputs": [
        {
          "output_type": "stream",
          "name": "stdout",
          "text": [
            "Dataset:     cleanlab_coco_sample_dataset\n",
            "Media type:  image\n",
            "Num samples: 118\n",
            "Sample fields:\n",
            "    id:                fiftyone.core.fields.ObjectIdField\n",
            "    filepath:          fiftyone.core.fields.StringField\n",
            "    tags:              fiftyone.core.fields.ListField(fiftyone.core.fields.StringField)\n",
            "    metadata:          fiftyone.core.fields.EmbeddedDocumentField(fiftyone.core.metadata.ImageMetadata)\n",
            "    detections:        fiftyone.core.fields.EmbeddedDocumentField(fiftyone.core.labels.Detections)\n",
            "    segmentations:     fiftyone.core.fields.EmbeddedDocumentField(fiftyone.core.labels.Detections)\n",
            "    coco_id:           fiftyone.core.fields.IntField\n",
            "    predictions:       fiftyone.core.fields.EmbeddedDocumentField(fiftyone.core.labels.Detections)\n",
            "    mistakenness:      fiftyone.core.fields.FloatField\n",
            "    possible_missing:  fiftyone.core.fields.IntField\n",
            "    possible_spurious: fiftyone.core.fields.IntField\n",
            "View stages:\n",
            "    1. SortBy(field_or_expr='mistakenness', reverse=True, create_index=True)\n"
          ]
        }
      ],
      "source": [
        "from fiftyone import ViewField as F\n",
        "\n",
        "# Sort by likelihood of mistake (most likely first)\n",
        "mistake_view = coco_dataset.sort_by(\"mistakenness\", reverse=True)\n",
        "\n",
        "# Print some information about the view\n",
        "print(mistake_view)"
      ]
    },
    {
      "cell_type": "code",
      "execution_count": 32,
      "metadata": {
        "id": "XGGS_825vbgH",
        "outputId": "99921563-7c26-498d-8c21-3dd53619fc55",
        "colab": {
          "base_uri": "https://localhost:8080/"
        }
      },
      "outputs": [
        {
          "output_type": "stream",
          "name": "stdout",
          "text": [
            "<Detection: {\n",
            "    'id': '65e67f2af724d5c225b89170',\n",
            "    'attributes': {},\n",
            "    'tags': [],\n",
            "    'label': 'chair',\n",
            "    'bounding_box': [\n",
            "        0.0014375,\n",
            "        0.32675,\n",
            "        0.07876562499999999,\n",
            "        0.17024999999999998,\n",
            "    ],\n",
            "    'mask': None,\n",
            "    'confidence': None,\n",
            "    'index': None,\n",
            "    'supercategory': 'furniture',\n",
            "    'iscrowd': 0,\n",
            "    'mistakenness': 0.9203526079654694,\n",
            "    'mistakenness_loc': 0.7812364491995805,\n",
            "}>\n"
          ]
        }
      ],
      "source": [
        "# Inspect some samples and detections\n",
        "# This is the first detection of the first sample\n",
        "print(mistake_view.first().detections.detections[0])"
      ]
    },
    {
      "cell_type": "markdown",
      "metadata": {
        "id": "8M0mXQjrvbgH"
      },
      "source": [
        "Let's use the App to visually inspect the results:"
      ]
    },
    {
      "cell_type": "code",
      "execution_count": 33,
      "metadata": {
        "id": "kERcfF9MvbgH",
        "outputId": "2e87a618-0629-41d1-bf20-b14694d3befd",
        "colab": {
          "base_uri": "https://localhost:8080/",
          "height": 804
        }
      },
      "outputs": [
        {
          "output_type": "display_data",
          "data": {
            "text/plain": [
              "<IPython.core.display.HTML object>"
            ],
            "text/html": [
              "\n",
              "<style>\n",
              "\n",
              "@import url(\"https://fonts.googleapis.com/css2?family=Palanquin&display=swap\");\n",
              "\n",
              "body, html {\n",
              "  margin: 0;\n",
              "  padding: 0;\n",
              "  width: 100%;\n",
              "}\n",
              "\n",
              "#focontainer-f701a6d1-52f9-4e35-b41f-d98a66cdf876 {\n",
              "  position: relative;\n",
              "  height: px;\n",
              "  display: block !important;\n",
              "}\n",
              "#foactivate-f701a6d1-52f9-4e35-b41f-d98a66cdf876 {\n",
              "  font-weight: bold;\n",
              "  cursor: pointer;\n",
              "  font-size: 24px;\n",
              "  border-radius: 3px;\n",
              "  text-align: center;\n",
              "  padding: 0.5em;\n",
              "  color: rgb(255, 255, 255);\n",
              "  font-family: \"Palanquin\", sans-serif;\n",
              "  position: absolute;\n",
              "  left: 50%;\n",
              "  top: 50%;\n",
              "  width: 160px;\n",
              "  margin-left: -80px;\n",
              "  margin-top: -23px;\n",
              "  background: hsla(210,11%,15%, 0.8);\n",
              "  border: none;\n",
              "}\n",
              "#foactivate-f701a6d1-52f9-4e35-b41f-d98a66cdf876:focus {\n",
              "  outline: none;\n",
              "}\n",
              "#fooverlay-f701a6d1-52f9-4e35-b41f-d98a66cdf876 {\n",
              "  width: 100%;\n",
              "  height: 100%;\n",
              "  background: hsla(208, 7%, 46%, 0.7);\n",
              "  position: absolute;\n",
              "  top: 0;\n",
              "  left: 0;\n",
              "  display: none;\n",
              "  cursor: pointer;\n",
              "}\n",
              "</style>\n",
              "<div id=\"focontainer-f701a6d1-52f9-4e35-b41f-d98a66cdf876\" style=\"display: none;\">\n",
              "   <div id=\"fooverlay-f701a6d1-52f9-4e35-b41f-d98a66cdf876\">\n",
              "      <button id=\"foactivate-f701a6d1-52f9-4e35-b41f-d98a66cdf876\" >Activate</button>\n",
              "   </div>\n",
              "</div>"
            ]
          },
          "metadata": {}
        }
      ],
      "source": [
        "# Open new App window\n",
        "session.show()"
      ]
    },
    {
      "cell_type": "code",
      "execution_count": 34,
      "metadata": {
        "id": "CrrV2qsfvbgI",
        "outputId": "e316a50f-f407-43b5-da89-b24d2b5eb337",
        "colab": {
          "base_uri": "https://localhost:8080/",
          "height": 804
        }
      },
      "outputs": [
        {
          "output_type": "display_data",
          "data": {
            "text/plain": [
              "<IPython.core.display.HTML object>"
            ],
            "text/html": [
              "\n",
              "<style>\n",
              "\n",
              "@import url(\"https://fonts.googleapis.com/css2?family=Palanquin&display=swap\");\n",
              "\n",
              "body, html {\n",
              "  margin: 0;\n",
              "  padding: 0;\n",
              "  width: 100%;\n",
              "}\n",
              "\n",
              "#focontainer-75de603e-c3b7-424b-b6ca-d56db9c78e58 {\n",
              "  position: relative;\n",
              "  height: px;\n",
              "  display: block !important;\n",
              "}\n",
              "#foactivate-75de603e-c3b7-424b-b6ca-d56db9c78e58 {\n",
              "  font-weight: bold;\n",
              "  cursor: pointer;\n",
              "  font-size: 24px;\n",
              "  border-radius: 3px;\n",
              "  text-align: center;\n",
              "  padding: 0.5em;\n",
              "  color: rgb(255, 255, 255);\n",
              "  font-family: \"Palanquin\", sans-serif;\n",
              "  position: absolute;\n",
              "  left: 50%;\n",
              "  top: 50%;\n",
              "  width: 160px;\n",
              "  margin-left: -80px;\n",
              "  margin-top: -23px;\n",
              "  background: hsla(210,11%,15%, 0.8);\n",
              "  border: none;\n",
              "}\n",
              "#foactivate-75de603e-c3b7-424b-b6ca-d56db9c78e58:focus {\n",
              "  outline: none;\n",
              "}\n",
              "#fooverlay-75de603e-c3b7-424b-b6ca-d56db9c78e58 {\n",
              "  width: 100%;\n",
              "  height: 100%;\n",
              "  background: hsla(208, 7%, 46%, 0.7);\n",
              "  position: absolute;\n",
              "  top: 0;\n",
              "  left: 0;\n",
              "  display: none;\n",
              "  cursor: pointer;\n",
              "}\n",
              "</style>\n",
              "<div id=\"focontainer-75de603e-c3b7-424b-b6ca-d56db9c78e58\" style=\"display: none;\">\n",
              "   <div id=\"fooverlay-75de603e-c3b7-424b-b6ca-d56db9c78e58\">\n",
              "      <button id=\"foactivate-75de603e-c3b7-424b-b6ca-d56db9c78e58\" >Activate</button>\n",
              "   </div>\n",
              "</div>"
            ]
          },
          "metadata": {}
        }
      ],
      "source": [
        "# Show the samples we processed in rank order by the mistakenness\n",
        "session.view = mistake_view"
      ]
    },
    {
      "cell_type": "markdown",
      "metadata": {
        "id": "QFd6lriQvbgI"
      },
      "source": [
        "Another useful query is to find all objects that have a high mistakenness, lets say > 0.50:"
      ]
    },
    {
      "cell_type": "code",
      "execution_count": 36,
      "metadata": {
        "id": "cZTj8gwBvbgI",
        "outputId": "8f5c0e63-f399-4c77-ded6-6421010cc104",
        "colab": {
          "base_uri": "https://localhost:8080/",
          "height": 804
        }
      },
      "outputs": [
        {
          "output_type": "display_data",
          "data": {
            "text/plain": [
              "<IPython.core.display.HTML object>"
            ],
            "text/html": [
              "\n",
              "<style>\n",
              "\n",
              "@import url(\"https://fonts.googleapis.com/css2?family=Palanquin&display=swap\");\n",
              "\n",
              "body, html {\n",
              "  margin: 0;\n",
              "  padding: 0;\n",
              "  width: 100%;\n",
              "}\n",
              "\n",
              "#focontainer-3360ce2a-1b18-447f-9180-4bf43e0728ef {\n",
              "  position: relative;\n",
              "  height: px;\n",
              "  display: block !important;\n",
              "}\n",
              "#foactivate-3360ce2a-1b18-447f-9180-4bf43e0728ef {\n",
              "  font-weight: bold;\n",
              "  cursor: pointer;\n",
              "  font-size: 24px;\n",
              "  border-radius: 3px;\n",
              "  text-align: center;\n",
              "  padding: 0.5em;\n",
              "  color: rgb(255, 255, 255);\n",
              "  font-family: \"Palanquin\", sans-serif;\n",
              "  position: absolute;\n",
              "  left: 50%;\n",
              "  top: 50%;\n",
              "  width: 160px;\n",
              "  margin-left: -80px;\n",
              "  margin-top: -23px;\n",
              "  background: hsla(210,11%,15%, 0.8);\n",
              "  border: none;\n",
              "}\n",
              "#foactivate-3360ce2a-1b18-447f-9180-4bf43e0728ef:focus {\n",
              "  outline: none;\n",
              "}\n",
              "#fooverlay-3360ce2a-1b18-447f-9180-4bf43e0728ef {\n",
              "  width: 100%;\n",
              "  height: 100%;\n",
              "  background: hsla(208, 7%, 46%, 0.7);\n",
              "  position: absolute;\n",
              "  top: 0;\n",
              "  left: 0;\n",
              "  display: none;\n",
              "  cursor: pointer;\n",
              "}\n",
              "</style>\n",
              "<div id=\"focontainer-3360ce2a-1b18-447f-9180-4bf43e0728ef\" style=\"display: none;\">\n",
              "   <div id=\"fooverlay-3360ce2a-1b18-447f-9180-4bf43e0728ef\">\n",
              "      <button id=\"foactivate-3360ce2a-1b18-447f-9180-4bf43e0728ef\" >Activate</button>\n",
              "   </div>\n",
              "</div>"
            ]
          },
          "metadata": {}
        }
      ],
      "source": [
        "from fiftyone import ViewField as F\n",
        "\n",
        "session.view = coco_dataset.filter_labels(\"detections\", F(\"mistakenness\") > 0.50)"
      ]
    },
    {
      "cell_type": "markdown",
      "metadata": {
        "id": "3l9CeOPDvbgI"
      },
      "source": [
        "Looking through the results, we see some annotations that may be incorrect. For example, in the image below the `goat` is labeled as a `sheep`.\n",
        "\n",
        "We can use a similar workflow to look at objects that may be localized poorly:"
      ]
    },
    {
      "cell_type": "code",
      "execution_count": 38,
      "metadata": {
        "id": "7uHAZfrJvbgI",
        "outputId": "9f4abfe7-41ea-4b96-a7fb-5eda85944a4d",
        "colab": {
          "base_uri": "https://localhost:8080/",
          "height": 804
        }
      },
      "outputs": [
        {
          "output_type": "display_data",
          "data": {
            "text/plain": [
              "<IPython.core.display.HTML object>"
            ],
            "text/html": [
              "\n",
              "<style>\n",
              "\n",
              "@import url(\"https://fonts.googleapis.com/css2?family=Palanquin&display=swap\");\n",
              "\n",
              "body, html {\n",
              "  margin: 0;\n",
              "  padding: 0;\n",
              "  width: 100%;\n",
              "}\n",
              "\n",
              "#focontainer-3b5ebf7f-3e4b-421c-90d6-e774a4696024 {\n",
              "  position: relative;\n",
              "  height: px;\n",
              "  display: block !important;\n",
              "}\n",
              "#foactivate-3b5ebf7f-3e4b-421c-90d6-e774a4696024 {\n",
              "  font-weight: bold;\n",
              "  cursor: pointer;\n",
              "  font-size: 24px;\n",
              "  border-radius: 3px;\n",
              "  text-align: center;\n",
              "  padding: 0.5em;\n",
              "  color: rgb(255, 255, 255);\n",
              "  font-family: \"Palanquin\", sans-serif;\n",
              "  position: absolute;\n",
              "  left: 50%;\n",
              "  top: 50%;\n",
              "  width: 160px;\n",
              "  margin-left: -80px;\n",
              "  margin-top: -23px;\n",
              "  background: hsla(210,11%,15%, 0.8);\n",
              "  border: none;\n",
              "}\n",
              "#foactivate-3b5ebf7f-3e4b-421c-90d6-e774a4696024:focus {\n",
              "  outline: none;\n",
              "}\n",
              "#fooverlay-3b5ebf7f-3e4b-421c-90d6-e774a4696024 {\n",
              "  width: 100%;\n",
              "  height: 100%;\n",
              "  background: hsla(208, 7%, 46%, 0.7);\n",
              "  position: absolute;\n",
              "  top: 0;\n",
              "  left: 0;\n",
              "  display: none;\n",
              "  cursor: pointer;\n",
              "}\n",
              "</style>\n",
              "<div id=\"focontainer-3b5ebf7f-3e4b-421c-90d6-e774a4696024\" style=\"display: none;\">\n",
              "   <div id=\"fooverlay-3b5ebf7f-3e4b-421c-90d6-e774a4696024\">\n",
              "      <button id=\"foactivate-3b5ebf7f-3e4b-421c-90d6-e774a4696024\" >Activate</button>\n",
              "   </div>\n",
              "</div>"
            ]
          },
          "metadata": {}
        }
      ],
      "source": [
        "session.view = coco_dataset.filter_labels(\"detections\", F(\"mistakenness_loc\") > 0.50)"
      ]
    },
    {
      "cell_type": "markdown",
      "metadata": {
        "id": "VEzXFbDxvbgI"
      },
      "source": [
        "One of the examples that popped up from this query is shown below. The bounding box around the person on the left side of the image is shifted too far to the right."
      ]
    },
    {
      "cell_type": "markdown",
      "metadata": {
        "id": "YlNivCgvvbgI"
      },
      "source": [
        "The `possible_missing` field can also be useful to sort by to find instances of incorrect annotations.\n",
        "\n",
        "Similarly, `possible_spurious` can be used to find objects that the model detected that may have been missed by annotators."
      ]
    },
    {
      "cell_type": "code",
      "execution_count": 39,
      "metadata": {
        "id": "7ehJm7PKvbgI",
        "outputId": "25bd1ebd-b63d-4457-f75f-1e67894beb61",
        "colab": {
          "base_uri": "https://localhost:8080/",
          "height": 804
        }
      },
      "outputs": [
        {
          "output_type": "display_data",
          "data": {
            "text/plain": [
              "<IPython.core.display.HTML object>"
            ],
            "text/html": [
              "\n",
              "<style>\n",
              "\n",
              "@import url(\"https://fonts.googleapis.com/css2?family=Palanquin&display=swap\");\n",
              "\n",
              "body, html {\n",
              "  margin: 0;\n",
              "  padding: 0;\n",
              "  width: 100%;\n",
              "}\n",
              "\n",
              "#focontainer-e54abad8-4d8d-491e-bdef-16726e8d4139 {\n",
              "  position: relative;\n",
              "  height: px;\n",
              "  display: block !important;\n",
              "}\n",
              "#foactivate-e54abad8-4d8d-491e-bdef-16726e8d4139 {\n",
              "  font-weight: bold;\n",
              "  cursor: pointer;\n",
              "  font-size: 24px;\n",
              "  border-radius: 3px;\n",
              "  text-align: center;\n",
              "  padding: 0.5em;\n",
              "  color: rgb(255, 255, 255);\n",
              "  font-family: \"Palanquin\", sans-serif;\n",
              "  position: absolute;\n",
              "  left: 50%;\n",
              "  top: 50%;\n",
              "  width: 160px;\n",
              "  margin-left: -80px;\n",
              "  margin-top: -23px;\n",
              "  background: hsla(210,11%,15%, 0.8);\n",
              "  border: none;\n",
              "}\n",
              "#foactivate-e54abad8-4d8d-491e-bdef-16726e8d4139:focus {\n",
              "  outline: none;\n",
              "}\n",
              "#fooverlay-e54abad8-4d8d-491e-bdef-16726e8d4139 {\n",
              "  width: 100%;\n",
              "  height: 100%;\n",
              "  background: hsla(208, 7%, 46%, 0.7);\n",
              "  position: absolute;\n",
              "  top: 0;\n",
              "  left: 0;\n",
              "  display: none;\n",
              "  cursor: pointer;\n",
              "}\n",
              "</style>\n",
              "<div id=\"focontainer-e54abad8-4d8d-491e-bdef-16726e8d4139\" style=\"display: none;\">\n",
              "   <div id=\"fooverlay-e54abad8-4d8d-491e-bdef-16726e8d4139\">\n",
              "      <button id=\"foactivate-e54abad8-4d8d-491e-bdef-16726e8d4139\" >Activate</button>\n",
              "   </div>\n",
              "</div>"
            ]
          },
          "metadata": {}
        }
      ],
      "source": [
        "session.view = coco_dataset.match(F(\"possible_missing\") > 0)"
      ]
    },
    {
      "cell_type": "markdown",
      "metadata": {
        "id": "IisEftKfvbgJ"
      },
      "source": [
        "An example that showed up from this search is shown above. There is an `apple` that was not annotated that the model detected."
      ]
    },
    {
      "cell_type": "markdown",
      "metadata": {
        "id": "zJ7uk3WivbgJ"
      },
      "source": [
        "## Tagging and resolution\n",
        "\n",
        "Any label or collection of labels can be tagged at any time in the sample grid or expanded sample view. In the expanded sample view, individual samples can be selected by clicking on them in the media player. We can, for example, tag this `apple` prediction as `missing` and any other predictions without an associated ground truth detection.\n",
        "\n",
        "Labels with specific tags can then be selected with [select_labels()](https://voxel51.com/docs/fiftyone/api/fiftyone.core.collections.html?highlight=select_labels#fiftyone.core.collections.SampleCollection.select_labels) stage and sent off to assist in improving the annotations with your annotation provided of choice. FiftyOne currently offers integrations for both [Labelbox](https://voxel51.com/docs/fiftyone/api/fiftyone.utils.labelbox.html) and [Scale](https://voxel51.com/docs/fiftyone/api/fiftyone.utils.scale.html)."
      ]
    },
    {
      "cell_type": "code",
      "execution_count": 40,
      "metadata": {
        "id": "FEv8MpmpvbgJ"
      },
      "outputs": [],
      "source": [
        "# A dataset can be filtered to only contain labels with certain tags\n",
        "# Helpful for isolating labels with issues and sending off to an annotation provider\n",
        "missing_ground_truth = coco_dataset.select_labels(tags=\"missing\")"
      ]
    },
    {
      "cell_type": "markdown",
      "metadata": {
        "id": "d_06aCf4vbgJ"
      },
      "source": [
        "**REMEMBER**: Since you are using model predictions to guide the mistakenness process, the better your model, the more accurate the mistakenness suggestions. Additionally, using logits of confidence scores will also provide better results.\n",
        "\n",
        "We used Faster-RCNN in this example which is quite a few years old. Using EfficientDet D7 provided much better results. For example, it was easily able to find this `snowboard` labeled as `skis`:"
      ]
    },
    {
      "cell_type": "markdown",
      "metadata": {
        "id": "ja6gaettvbgJ"
      },
      "source": [
        "![skis](https://github.com/voxel51/fiftyone/blob/v0.23.5/docs/source/tutorials/images/det_mistakenness_6.png?raw=1)"
      ]
    },
    {
      "cell_type": "code",
      "execution_count": 41,
      "metadata": {
        "id": "T5BpaTvfvbgJ"
      },
      "outputs": [],
      "source": [
        "session.freeze() # screenshot the active App for sharing"
      ]
    }
  ],
  "metadata": {
    "kernelspec": {
      "display_name": "Python 3",
      "name": "python3"
    },
    "language_info": {
      "codemirror_mode": {
        "name": "ipython",
        "version": 3
      },
      "file_extension": ".py",
      "mimetype": "text/x-python",
      "name": "python",
      "nbconvert_exporter": "python",
      "pygments_lexer": "ipython3",
      "version": "3.9.13"
    },
    "colab": {
      "provenance": [],
      "gpuType": "T4",
      "include_colab_link": true
    },
    "accelerator": "GPU"
  },
  "nbformat": 4,
  "nbformat_minor": 0
}