{
  "nbformat": 4,
  "nbformat_minor": 0,
  "metadata": {
    "colab": {
      "provenance": [],
      "authorship_tag": "ABX9TyPqdLi5X1vh9LwCtlqnm/ch",
      "include_colab_link": true
    },
    "kernelspec": {
      "name": "python3",
      "display_name": "Python 3"
    },
    "language_info": {
      "name": "python"
    }
  },
  "cells": [
    {
      "cell_type": "markdown",
      "metadata": {
        "id": "view-in-github",
        "colab_type": "text"
      },
      "source": [
        "<a href=\"https://colab.research.google.com/github/Motunrayo244/EDISS-MP/blob/main/Data%20Science/Project_work/Project1/Mini_Project_1.ipynb\" target=\"_parent\"><img src=\"https://colab.research.google.com/assets/colab-badge.svg\" alt=\"Open In Colab\"/></a>"
      ]
    },
    {
      "cell_type": "code",
      "execution_count": null,
      "metadata": {
        "colab": {
          "base_uri": "https://localhost:8080/"
        },
        "id": "BEw28baKlizB",
        "outputId": "5bb96ec8-cf6d-4d90-8d57-ae921b18dfb0"
      },
      "outputs": [
        {
          "output_type": "stream",
          "name": "stdout",
          "text": [
            "\u001b[33m\r0% [Working]\u001b[0m\r            \rHit:1 https://developer.download.nvidia.com/compute/cuda/repos/ubuntu2204/x86_64  InRelease\n",
            "\u001b[33m\r0% [Waiting for headers] [Waiting for headers] [Waiting for headers] [Connectin\u001b[0m\r                                                                               \rGet:2 https://cloud.r-project.org/bin/linux/ubuntu jammy-cran40/ InRelease [3,626 B]\n",
            "Hit:3 http://archive.ubuntu.com/ubuntu jammy InRelease\n",
            "Get:4 http://archive.ubuntu.com/ubuntu jammy-updates InRelease [119 kB]\n",
            "Get:5 http://security.ubuntu.com/ubuntu jammy-security InRelease [110 kB]\n",
            "Get:6 http://archive.ubuntu.com/ubuntu jammy-backports InRelease [109 kB]\n",
            "Hit:7 https://ppa.launchpadcontent.net/c2d4u.team/c2d4u4.0+/ubuntu jammy InRelease\n",
            "Get:8 http://archive.ubuntu.com/ubuntu jammy-updates/universe amd64 Packages [1,260 kB]\n",
            "Get:9 http://archive.ubuntu.com/ubuntu jammy-updates/main amd64 Packages [1,283 kB]\n",
            "Get:10 http://archive.ubuntu.com/ubuntu jammy-backports/main amd64 Packages [50.4 kB]\n",
            "Get:11 http://archive.ubuntu.com/ubuntu jammy-backports/universe amd64 Packages [28.1 kB]\n",
            "Get:12 https://ppa.launchpadcontent.net/deadsnakes/ppa/ubuntu jammy InRelease [18.1 kB]\n",
            "Hit:13 https://ppa.launchpadcontent.net/graphics-drivers/ppa/ubuntu jammy InRelease\n",
            "Hit:14 https://ppa.launchpadcontent.net/ubuntugis/ppa/ubuntu jammy InRelease\n",
            "Get:15 https://ppa.launchpadcontent.net/deadsnakes/ppa/ubuntu jammy/main amd64 Packages [21.8 kB]\n",
            "Fetched 3,003 kB in 3s (1,142 kB/s)\n",
            "Reading package lists... Done\n",
            "Building dependency tree... Done\n",
            "Reading state information... Done\n",
            "18 packages can be upgraded. Run 'apt list --upgradable' to see them.\n",
            "Reading package lists... Done\n",
            "Building dependency tree... Done\n",
            "Reading state information... Done\n",
            "wget is already the newest version (1.21.2-2ubuntu1).\n",
            "curl is already the newest version (7.81.0-1ubuntu1.13).\n",
            "unzip is already the newest version (6.0-26ubuntu3.1).\n",
            "0 upgraded, 0 newly installed, 0 to remove and 18 not upgraded.\n",
            "Reading package lists... Done\n",
            "Building dependency tree... Done\n",
            "Reading state information... Done\n",
            "The following additional packages will be installed:\n",
            "  mesa-vulkan-drivers\n",
            "The following NEW packages will be installed:\n",
            "  libvulkan1 mesa-vulkan-drivers\n",
            "0 upgraded, 2 newly installed, 0 to remove and 18 not upgraded.\n",
            "Need to get 9,650 kB of archives.\n",
            "After this operation, 46.2 MB of additional disk space will be used.\n",
            "Get:1 http://archive.ubuntu.com/ubuntu jammy/main amd64 libvulkan1 amd64 1.3.204.1-2 [128 kB]\n",
            "Get:2 http://archive.ubuntu.com/ubuntu jammy-updates/main amd64 mesa-vulkan-drivers amd64 23.0.4-0ubuntu1~22.04.1 [9,521 kB]\n",
            "Fetched 9,650 kB in 1s (17.6 MB/s)\n",
            "debconf: unable to initialize frontend: Dialog\n",
            "debconf: (No usable dialog-like program is installed, so the dialog based frontend cannot be used. at /usr/share/perl5/Debconf/FrontEnd/Dialog.pm line 78, <> line 2.)\n",
            "debconf: falling back to frontend: Readline\n",
            "debconf: unable to initialize frontend: Readline\n",
            "debconf: (This frontend requires a controlling tty.)\n",
            "debconf: falling back to frontend: Teletype\n",
            "dpkg-preconfigure: unable to re-open stdin: \n",
            "Selecting previously unselected package libvulkan1:amd64.\n",
            "(Reading database ... 120895 files and directories currently installed.)\n",
            "Preparing to unpack .../libvulkan1_1.3.204.1-2_amd64.deb ...\n",
            "Unpacking libvulkan1:amd64 (1.3.204.1-2) ...\n",
            "Selecting previously unselected package mesa-vulkan-drivers:amd64.\n",
            "Preparing to unpack .../mesa-vulkan-drivers_23.0.4-0ubuntu1~22.04.1_amd64.deb ...\n",
            "Unpacking mesa-vulkan-drivers:amd64 (23.0.4-0ubuntu1~22.04.1) ...\n",
            "Setting up libvulkan1:amd64 (1.3.204.1-2) ...\n",
            "Setting up mesa-vulkan-drivers:amd64 (23.0.4-0ubuntu1~22.04.1) ...\n",
            "Processing triggers for libc-bin (2.35-0ubuntu3.1) ...\n",
            "/sbin/ldconfig.real: /usr/local/lib/libtbbbind_2_0.so.3 is not a symbolic link\n",
            "\n",
            "/sbin/ldconfig.real: /usr/local/lib/libtbb.so.12 is not a symbolic link\n",
            "\n",
            "/sbin/ldconfig.real: /usr/local/lib/libtbbmalloc_proxy.so.2 is not a symbolic link\n",
            "\n",
            "/sbin/ldconfig.real: /usr/local/lib/libtbbmalloc.so.2 is not a symbolic link\n",
            "\n",
            "/sbin/ldconfig.real: /usr/local/lib/libtbbbind.so.3 is not a symbolic link\n",
            "\n",
            "/sbin/ldconfig.real: /usr/local/lib/libtbbbind_2_5.so.3 is not a symbolic link\n",
            "\n",
            "--2023-09-24 11:46:13--  http://archive.ubuntu.com/ubuntu/pool/main/libu/libu2f-host/libu2f-udev_1.1.4-1_all.deb\n",
            "Resolving archive.ubuntu.com (archive.ubuntu.com)... 91.189.91.81, 185.125.190.36, 91.189.91.83, ...\n",
            "Connecting to archive.ubuntu.com (archive.ubuntu.com)|91.189.91.81|:80... connected.\n",
            "HTTP request sent, awaiting response... 200 OK\n",
            "Length: 3708 (3.6K) [application/vnd.debian.binary-package]\n",
            "Saving to: ‘libu2f-udev_1.1.4-1_all.deb’\n",
            "\n",
            "libu2f-udev_1.1.4-1 100%[===================>]   3.62K  --.-KB/s    in 0s      \n",
            "\n",
            "2023-09-24 11:46:13 (370 MB/s) - ‘libu2f-udev_1.1.4-1_all.deb’ saved [3708/3708]\n",
            "\n",
            "Selecting previously unselected package libu2f-udev.\n",
            "(Reading database ... 120931 files and directories currently installed.)\n",
            "Preparing to unpack libu2f-udev_1.1.4-1_all.deb ...\n",
            "Unpacking libu2f-udev (1.1.4-1) ...\n",
            "Setting up libu2f-udev (1.1.4-1) ...\n",
            "--2023-09-24 11:46:14--  https://dl.google.com/linux/direct/google-chrome-stable_current_amd64.deb\n",
            "Resolving dl.google.com (dl.google.com)... 108.177.112.93, 108.177.112.190, 108.177.112.91, ...\n",
            "Connecting to dl.google.com (dl.google.com)|108.177.112.93|:443... connected.\n",
            "HTTP request sent, awaiting response... 200 OK\n",
            "Length: 103481376 (99M) [application/x-debian-package]\n",
            "Saving to: ‘google-chrome-stable_current_amd64.deb’\n",
            "\n",
            "google-chrome-stabl 100%[===================>]  98.69M   170MB/s    in 0.6s    \n",
            "\n",
            "2023-09-24 11:46:14 (170 MB/s) - ‘google-chrome-stable_current_amd64.deb’ saved [103481376/103481376]\n",
            "\n",
            "Selecting previously unselected package google-chrome-stable.\n",
            "(Reading database ... 120935 files and directories currently installed.)\n",
            "Preparing to unpack google-chrome-stable_current_amd64.deb ...\n",
            "Unpacking google-chrome-stable (117.0.5938.92-1) ...\n",
            "Setting up google-chrome-stable (117.0.5938.92-1) ...\n",
            "update-alternatives: using /usr/bin/google-chrome-stable to provide /usr/bin/x-www-browser (x-www-browser) in auto mode\n",
            "update-alternatives: using /usr/bin/google-chrome-stable to provide /usr/bin/gnome-www-browser (gnome-www-browser) in auto mode\n",
            "update-alternatives: using /usr/bin/google-chrome-stable to provide /usr/bin/google-chrome (google-chrome) in auto mode\n",
            "Processing triggers for man-db (2.10.2-1) ...\n",
            "--2023-09-24 11:46:29--  https://chromedriver.storage.googleapis.com/114.0.5735.90/chromedriver_linux64.zip\n",
            "Resolving chromedriver.storage.googleapis.com (chromedriver.storage.googleapis.com)... 173.194.74.207, 173.194.192.207, 142.250.152.207, ...\n",
            "Connecting to chromedriver.storage.googleapis.com (chromedriver.storage.googleapis.com)|173.194.74.207|:443... connected.\n",
            "HTTP request sent, awaiting response... 200 OK\n",
            "Length: 7407250 (7.1M) [application/zip]\n",
            "Saving to: ‘/tmp/chromedriver_linux64.zip’\n",
            "\n",
            "chromedriver_linux6 100%[===================>]   7.06M  --.-KB/s    in 0.03s   \n",
            "\n",
            "2023-09-24 11:46:29 (214 MB/s) - ‘/tmp/chromedriver_linux64.zip’ saved [7407250/7407250]\n",
            "\n",
            "Archive:  /tmp/chromedriver_linux64.zip\n",
            "  inflating: /tmp/chromedriver       \n",
            "  inflating: /tmp/LICENSE.chromedriver  \n",
            "Collecting selenium\n",
            "  Downloading selenium-4.12.0-py3-none-any.whl (9.4 MB)\n",
            "\u001b[2K     \u001b[90m━━━━━━━━━━━━━━━━━━━━━━━━━━━━━━━━━━━━━━━━\u001b[0m \u001b[32m9.4/9.4 MB\u001b[0m \u001b[31m16.3 MB/s\u001b[0m eta \u001b[36m0:00:00\u001b[0m\n",
            "\u001b[?25hRequirement already satisfied: urllib3[socks]<3,>=1.26 in /usr/local/lib/python3.10/dist-packages (from selenium) (2.0.4)\n",
            "Collecting trio~=0.17 (from selenium)\n",
            "  Downloading trio-0.22.2-py3-none-any.whl (400 kB)\n",
            "\u001b[2K     \u001b[90m━━━━━━━━━━━━━━━━━━━━━━━━━━━━━━━━━━━━━━\u001b[0m \u001b[32m400.2/400.2 kB\u001b[0m \u001b[31m38.0 MB/s\u001b[0m eta \u001b[36m0:00:00\u001b[0m\n",
            "\u001b[?25hCollecting trio-websocket~=0.9 (from selenium)\n",
            "  Downloading trio_websocket-0.10.4-py3-none-any.whl (17 kB)\n",
            "Requirement already satisfied: certifi>=2021.10.8 in /usr/local/lib/python3.10/dist-packages (from selenium) (2023.7.22)\n",
            "Requirement already satisfied: attrs>=20.1.0 in /usr/local/lib/python3.10/dist-packages (from trio~=0.17->selenium) (23.1.0)\n",
            "Requirement already satisfied: sortedcontainers in /usr/local/lib/python3.10/dist-packages (from trio~=0.17->selenium) (2.4.0)\n",
            "Requirement already satisfied: idna in /usr/local/lib/python3.10/dist-packages (from trio~=0.17->selenium) (3.4)\n",
            "Collecting outcome (from trio~=0.17->selenium)\n",
            "  Downloading outcome-1.2.0-py2.py3-none-any.whl (9.7 kB)\n",
            "Requirement already satisfied: sniffio in /usr/local/lib/python3.10/dist-packages (from trio~=0.17->selenium) (1.3.0)\n",
            "Requirement already satisfied: exceptiongroup>=1.0.0rc9 in /usr/local/lib/python3.10/dist-packages (from trio~=0.17->selenium) (1.1.3)\n",
            "Collecting wsproto>=0.14 (from trio-websocket~=0.9->selenium)\n",
            "  Downloading wsproto-1.2.0-py3-none-any.whl (24 kB)\n",
            "Requirement already satisfied: pysocks!=1.5.7,<2.0,>=1.5.6 in /usr/local/lib/python3.10/dist-packages (from urllib3[socks]<3,>=1.26->selenium) (1.7.1)\n",
            "Collecting h11<1,>=0.9.0 (from wsproto>=0.14->trio-websocket~=0.9->selenium)\n",
            "  Downloading h11-0.14.0-py3-none-any.whl (58 kB)\n",
            "\u001b[2K     \u001b[90m━━━━━━━━━━━━━━━━━━━━━━━━━━━━━━━━━━━━━━━━\u001b[0m \u001b[32m58.3/58.3 kB\u001b[0m \u001b[31m6.9 MB/s\u001b[0m eta \u001b[36m0:00:00\u001b[0m\n",
            "\u001b[?25hInstalling collected packages: outcome, h11, wsproto, trio, trio-websocket, selenium\n",
            "Successfully installed h11-0.14.0 outcome-1.2.0 selenium-4.12.0 trio-0.22.2 trio-websocket-0.10.4 wsproto-1.2.0\n"
          ]
        },
        {
          "output_type": "execute_result",
          "data": {
            "text/plain": []
          },
          "metadata": {},
          "execution_count": 1
        }
      ],
      "source": [
        "%%shell\n",
        "sudo apt -y update\n",
        "sudo apt install -y wget curl unzip\n",
        "sudo apt-get install libvulkan1\n",
        "wget http://archive.ubuntu.com/ubuntu/pool/main/libu/libu2f-host/libu2f-udev_1.1.4-1_all.deb\n",
        "dpkg -i libu2f-udev_1.1.4-1_all.deb\n",
        "wget https://dl.google.com/linux/direct/google-chrome-stable_current_amd64.deb\n",
        "dpkg -i google-chrome-stable_current_amd64.deb\n",
        "CHROME_DRIVER_VERSION=`curl -sS chromedriver.storage.googleapis.com/LATEST_RELEASE`\n",
        "wget -N https://chromedriver.storage.googleapis.com/$CHROME_DRIVER_VERSION/chromedriver_linux64.zip -P /tmp/\n",
        "unzip -o /tmp/chromedriver_linux64.zip -d /tmp/\n",
        "chmod +x /tmp/chromedriver\n",
        "mv /tmp/chromedriver /usr/local/bin/chromedriver\n",
        "pip install selenium"
      ]
    },
    {
      "cell_type": "code",
      "source": [
        "!pip install chromedriver-autoinstaller"
      ],
      "metadata": {
        "colab": {
          "base_uri": "https://localhost:8080/"
        },
        "id": "wk1qFoGyocID",
        "outputId": "fae6e584-6d7a-416c-c366-f595971c18fa"
      },
      "execution_count": null,
      "outputs": [
        {
          "output_type": "stream",
          "name": "stdout",
          "text": [
            "Collecting chromedriver-autoinstaller\n",
            "  Downloading chromedriver_autoinstaller-0.6.2-py3-none-any.whl (7.4 kB)\n",
            "Installing collected packages: chromedriver-autoinstaller\n",
            "Successfully installed chromedriver-autoinstaller-0.6.2\n"
          ]
        }
      ]
    },
    {
      "cell_type": "code",
      "source": [
        "!pip install selenium-stealth"
      ],
      "metadata": {
        "colab": {
          "base_uri": "https://localhost:8080/"
        },
        "id": "My_a3sYWwZtX",
        "outputId": "08fd2d5a-cc50-4a50-e603-413b88a9146c"
      },
      "execution_count": null,
      "outputs": [
        {
          "output_type": "stream",
          "name": "stdout",
          "text": [
            "Collecting selenium-stealth\n",
            "  Downloading selenium_stealth-1.0.6-py3-none-any.whl (32 kB)\n",
            "Requirement already satisfied: selenium in /usr/local/lib/python3.10/dist-packages (from selenium-stealth) (4.12.0)\n",
            "Requirement already satisfied: urllib3[socks]<3,>=1.26 in /usr/local/lib/python3.10/dist-packages (from selenium->selenium-stealth) (2.0.4)\n",
            "Requirement already satisfied: trio~=0.17 in /usr/local/lib/python3.10/dist-packages (from selenium->selenium-stealth) (0.22.2)\n",
            "Requirement already satisfied: trio-websocket~=0.9 in /usr/local/lib/python3.10/dist-packages (from selenium->selenium-stealth) (0.10.4)\n",
            "Requirement already satisfied: certifi>=2021.10.8 in /usr/local/lib/python3.10/dist-packages (from selenium->selenium-stealth) (2023.7.22)\n",
            "Requirement already satisfied: attrs>=20.1.0 in /usr/local/lib/python3.10/dist-packages (from trio~=0.17->selenium->selenium-stealth) (23.1.0)\n",
            "Requirement already satisfied: sortedcontainers in /usr/local/lib/python3.10/dist-packages (from trio~=0.17->selenium->selenium-stealth) (2.4.0)\n",
            "Requirement already satisfied: idna in /usr/local/lib/python3.10/dist-packages (from trio~=0.17->selenium->selenium-stealth) (3.4)\n",
            "Requirement already satisfied: outcome in /usr/local/lib/python3.10/dist-packages (from trio~=0.17->selenium->selenium-stealth) (1.2.0)\n",
            "Requirement already satisfied: sniffio in /usr/local/lib/python3.10/dist-packages (from trio~=0.17->selenium->selenium-stealth) (1.3.0)\n",
            "Requirement already satisfied: exceptiongroup>=1.0.0rc9 in /usr/local/lib/python3.10/dist-packages (from trio~=0.17->selenium->selenium-stealth) (1.1.3)\n",
            "Requirement already satisfied: wsproto>=0.14 in /usr/local/lib/python3.10/dist-packages (from trio-websocket~=0.9->selenium->selenium-stealth) (1.2.0)\n",
            "Requirement already satisfied: pysocks!=1.5.7,<2.0,>=1.5.6 in /usr/local/lib/python3.10/dist-packages (from urllib3[socks]<3,>=1.26->selenium->selenium-stealth) (1.7.1)\n",
            "Requirement already satisfied: h11<1,>=0.9.0 in /usr/local/lib/python3.10/dist-packages (from wsproto>=0.14->trio-websocket~=0.9->selenium->selenium-stealth) (0.14.0)\n",
            "Installing collected packages: selenium-stealth\n",
            "Successfully installed selenium-stealth-1.0.6\n"
          ]
        }
      ]
    },
    {
      "cell_type": "code",
      "source": [
        "import sys\n",
        "sys.path.insert(0,'/usr/lib/chromium-browser/chromedriver')\n",
        "import chromedriver_autoinstaller\n",
        "from selenium import webdriver\n",
        "from selenium_stealth import stealth\n",
        "from selenium.webdriver.common.keys import Keys\n",
        "from selenium.webdriver.chrome.options import Options\n",
        "from selenium.webdriver.common.by import By\n",
        "from selenium.webdriver.support.ui import WebDriverWait\n",
        "from selenium.webdriver.support import expected_conditions as EC\n",
        "from selenium.common.exceptions import TimeoutException\n",
        "from selenium.common.exceptions import NoSuchElementException\n",
        "from selenium.common.exceptions import StaleElementReferenceException\n",
        "from selenium.common.exceptions import ElementClickInterceptedException\n",
        "from bs4 import BeautifulSoup\n",
        "\n",
        "from matplotlib import pyplot as plt\n",
        "from os.path  import basename\n",
        "\n",
        "import time\n",
        "import requests\n",
        "import csv\n",
        "import numpy as np\n",
        "import pandas as pd\n",
        "import seaborn as sns\n",
        "\n"
      ],
      "metadata": {
        "id": "4nCNzDy1oifV"
      },
      "execution_count": null,
      "outputs": []
    },
    {
      "cell_type": "code",
      "source": [
        "# setup chrome options\n",
        "chrome_options = webdriver.ChromeOptions()\n",
        "chrome_options.add_argument('--headless=new') # ensure GUI is off\n",
        "chrome_options.add_argument('start-maximized')\n",
        "chrome_options.add_argument('--no-sandbox')\n",
        "chrome_options.add_argument('--disable-dev-shm-usage')\n",
        "chrome_options.add_argument('disable-infobars')\n",
        "chrome_options.add_argument('--disable-blink-features=AutomationControlled')\n",
        "chrome_options.add_argument(\"--ignore-certificate-errors\")\n",
        "chrome_options.add_argument(\"--window-size=2560,1440\")\n",
        "chrome_options.add_argument(\"--incognito\")\n",
        "chrome_options.add_argument('--enable-javascript')\n",
        "chrome_options.add_experimental_option(\"excludeSwitches\", [\"enable-automation\"])\n",
        "chrome_options.add_experimental_option('useAutomationExtension', False)\n",
        "chrome_options.add_argument(\"lang=en\")\n",
        "chrome_options.add_argument(\"--disable-extensions\")\n",
        "\n"
      ],
      "metadata": {
        "id": "pFGYD0Ysotsb"
      },
      "execution_count": null,
      "outputs": []
    },
    {
      "cell_type": "code",
      "source": [
        "# set path to chromedriver as per your configuration\n",
        "chromedriver_autoinstaller.install()\n"
      ],
      "metadata": {
        "colab": {
          "base_uri": "https://localhost:8080/",
          "height": 36
        },
        "id": "FGwcyzHSo3GB",
        "outputId": "315c163e-5fb1-4dfe-d5f8-2e57eb717f2e"
      },
      "execution_count": null,
      "outputs": [
        {
          "output_type": "execute_result",
          "data": {
            "text/plain": [
              "'/usr/local/lib/python3.10/dist-packages/chromedriver_autoinstaller/117/chromedriver'"
            ],
            "application/vnd.google.colaboratory.intrinsic+json": {
              "type": "string"
            }
          },
          "metadata": {},
          "execution_count": 6
        }
      ]
    },
    {
      "cell_type": "code",
      "source": [
        "urls = ['https://www.kayak.com/flights/HEL-MAN/2023-12-18?sort=bestflight_a',\n",
        "        'https://www.momondo.com/flight-search/HEL-MAN/2023-12-18?sort=bestflight_a']"
      ],
      "metadata": {
        "id": "wN4VtfsJo5nJ"
      },
      "execution_count": null,
      "outputs": []
    },
    {
      "cell_type": "code",
      "source": [
        "urls[1].split('/')[2]"
      ],
      "metadata": {
        "colab": {
          "base_uri": "https://localhost:8080/",
          "height": 36
        },
        "id": "dp9PP2Iw_4OL",
        "outputId": "b8186b67-59d3-4cc0-efb3-d1dceab77559"
      },
      "execution_count": null,
      "outputs": [
        {
          "output_type": "execute_result",
          "data": {
            "text/plain": [
              "'www.momondo.com'"
            ],
            "application/vnd.google.colaboratory.intrinsic+json": {
              "type": "string"
            }
          },
          "metadata": {},
          "execution_count": 25
        }
      ]
    },
    {
      "cell_type": "code",
      "source": [
        "csv_file = open('flight_details.csv','w', encoding='utf-8')\n",
        "csv_writer = csv.writer(csv_file)\n",
        "csv_writer.writerow(['website','airline','flight_time','num_of_stops','stops', 'total_flight_duration','source_to_dest', 'carry_on_bag',\n",
        "                     'checked_bag', 'price','flight_class','flight_deal_provider','original_departure_date','first_leg_info','flght_times',\n",
        "                     'flight_stations','flight_durations','flight_carriers','flight_layover_duration','flight_layover_locations',\n",
        "                     'flight_quality_details','class_features'])"
      ],
      "metadata": {
        "colab": {
          "base_uri": "https://localhost:8080/"
        },
        "id": "cx0gsXWHsOob",
        "outputId": "0597d9e5-b324-4409-f21b-791a7c8255a2"
      },
      "execution_count": null,
      "outputs": [
        {
          "output_type": "execute_result",
          "data": {
            "text/plain": [
              "337"
            ]
          },
          "metadata": {},
          "execution_count": 8
        }
      ]
    },
    {
      "cell_type": "code",
      "source": [
        "driver = webdriver.Chrome(chrome_options)\n",
        "stealth(driver,\n",
        "        languages=[\"en-US\", \"en\"],\n",
        "        vendor=\"Google Inc.\",\n",
        "        platform=\"Win32\",\n",
        "        webgl_vendor=\"Intel Inc.\",\n",
        "        renderer=\"Intel Iris OpenGL Engine\",\n",
        "        fix_hairline=True,\n",
        "        )\n",
        "for url in urls:\n",
        "        driver.get(url=url)\n",
        "        driver.refresh()\n",
        "        driver.implicitly_wait(5)\n",
        "        more_buttons = driver.find_element(By.CLASS_NAME,'show-more-button').click()\n",
        "        # driver.find_element(By.CLASS_NAME,\"nrc6-content-section\").click()\n",
        "        WebDriverWait(driver,30,ignored_exceptions=( NoSuchElementException, StaleElementReferenceException)).until(EC.visibility_of_element_located((By.CLASS_NAME,'show-more-button'))).click()\n",
        "        for _ in range(8):\n",
        "                try:\n",
        "                        time.sleep(20)\n",
        "                        WebDriverWait(driver,40,ignored_exceptions=( NoSuchElementException, StaleElementReferenceException,ElementClickInterceptedException)).until(EC.visibility_of_element_located((By.CLASS_NAME,'show-more-button'))).click()\n",
        "                except TimeoutException:\n",
        "                        break\n",
        "\n",
        "\n",
        "        pop_out_buttons = driver.find_elements(By.CLASS_NAME,\"nrc6-content-section\")\n",
        "        for x in range(len(pop_out_buttons)):\n",
        "          try:\n",
        "                if pop_out_buttons[x].is_displayed():\n",
        "                        driver.execute_script(\"arguments[0].click();\", pop_out_buttons[x])\n",
        "                        time.sleep(1)\n",
        "          except  StaleElementReferenceException:\n",
        "              driver.refresh()\n",
        "              driver.implicitly_wait(5)\n",
        "              more_buttons = driver.find_element(By.CLASS_NAME,'show-more-button').click()\n",
        "              # driver.find_element(By.CLASS_NAME,\"nrc6-content-section\").click()\n",
        "              WebDriverWait(driver,30).until(EC.visibility_of_element_located((By.CLASS_NAME,'show-more-button'))).click()\n",
        "              pop_out_buttons = driver.find_elements(By.CLASS_NAME,\"nrc6-content-section\")\n",
        "              if pop_out_buttons[x].is_displayed():\n",
        "                        driver.execute_script(\"arguments[0].click();\", pop_out_buttons[x])\n",
        "                        time.sleep(1)\n",
        "\n",
        "\n",
        "\n",
        "        flight_features_button = driver.find_elements(By.CLASS_NAME,\"af2q\")\n",
        "        for x in range(len(flight_features_button)):\n",
        "                try:\n",
        "                        if flight_features_button[x].is_displayed():\n",
        "                                driver.execute_script(\"arguments[0].click();\", flight_features_button[x])\n",
        "                        time.sleep(1)\n",
        "                except Exception as e :\n",
        "                        print(e)\n",
        "\n",
        "\n",
        "        page_source = driver.page_source\n",
        "\n",
        "        soup = BeautifulSoup(page_source,'lxml')\n",
        "        flights = soup.find_all('div', class_='nrc6')\n",
        "\n",
        "\n",
        "        for flight in flights:\n",
        "                airline = flight.find('div', class_='VY2U').contents[1].text\n",
        "                flight_time  = flight.find('div', class_='VY2U').contents[0].text\n",
        "                no_of_stops = flight.find('div', class_='JWEO').contents[0].text\n",
        "                stops = flight.find('div', class_='JWEO').contents[1].text\n",
        "                total_flight_duration = flight.find('div', class_='xdW8').contents[0].text\n",
        "                source_dest = flight.find('div', class_='xdW8').contents[1].text\n",
        "                carry_on_bag = flight.find('div', class_='ac27').contents[0].text\n",
        "                checked_bag = flight.find('div', class_='ac27').contents[1].text\n",
        "                price = flight.find('div', class_='oVHK').text\n",
        "                flight_class = flight.find('div', class_='aC3z').text\n",
        "                flight_deal_provider  = flight.find('div', class_='M_JD-provider-name').text\n",
        "\n",
        "                if flight.find('span', class_='X3K_-header-text') is None:\n",
        "                        original_departure_date= ''\n",
        "                else:\n",
        "                        original_departure_date = flight.find('span', class_='X3K_-header-text').text.split(',')[1]\n",
        "                # original_departure_date = flight.find('span', class_='X3K_-header-text').text.split(',')[1]\n",
        "\n",
        "                if flight.find('div', class_='nAz5-carrier-text') is None:\n",
        "                        first_leg_info = ''\n",
        "                else:\n",
        "                        first_leg_info = flight.find('div', class_='nAz5-carrier-text').text\n",
        "                # first_leg_info = flight.find('div', class_='nAz5-carrier-text').text\n",
        "\n",
        "                flight_details = flight.find_all('div', class_='g16k')\n",
        "                times=[]\n",
        "                stations = []\n",
        "                for detail in flight_details:\n",
        "                        times.append(detail.find('span', class_='g16k-time').text)\n",
        "                        stations.append(detail.find('span', class_='g16k-station').text)\n",
        "\n",
        "                # flight_durations = flights.find_all('div', class_='nAz5-duration-text')\n",
        "                durations = [duration.text for duration in flight.find_all('div', class_='nAz5-duration-text')]\n",
        "                carriers = [carrier.text for carrier in flight.find_all('div', class_='nAz5-carrier-text')]\n",
        "\n",
        "                layover_times= []\n",
        "                layover_locations = []\n",
        "                layovers = flight.find_all('div', class_='c62AT')\n",
        "                for layover in layovers:\n",
        "                        layover_times.append(layover.find('div', class_='c62AT-layover-info').contents[0].text)\n",
        "                        layover_locations.append(layover.find('div', class_='c62AT-layover-info').contents[2].text)\n",
        "\n",
        "                flight_quality_details = flight.find_all('div', class_='af2q-quality-items')\n",
        "                flight_quality_detail = [\n",
        "                        [q.text for q in q_detail.find_all('span', class_='af2q-qmsg')]\n",
        "                        for q_detail in flight_quality_details\n",
        "                ]\n",
        "\n",
        "                class_feature = flight.find_all('img', class_='X9mO-thumb-img')\n",
        "                class_features =[feature['alt'] for feature in class_feature]\n",
        "\n",
        "                csv_writer.writerow([url.split('/')[2],airline,flight_time,no_of_stops,stops,total_flight_duration,source_dest,carry_on_bag,checked_bag,\n",
        "                                     price,flight_class,flight_deal_provider,original_departure_date,first_leg_info,times,stations,durations,carriers,\n",
        "                                     layover_times,layover_locations,flight_quality_detail,class_features])\n",
        "\n",
        "\n",
        "csv_file.close()\n",
        "driver.quit()\n",
        "\n",
        "\n"
      ],
      "metadata": {
        "id": "zDU743FjsXEl"
      },
      "execution_count": null,
      "outputs": []
    },
    {
      "cell_type": "code",
      "source": [
        "from google.colab import drive\n",
        "drive.mount('/content/drive')"
      ],
      "metadata": {
        "id": "YKPdckESLjcV"
      },
      "execution_count": null,
      "outputs": []
    },
    {
      "cell_type": "code",
      "source": [
        "with open('flight_details_booking_com.csv','w', encoding='utf-8') as csv_file:\n",
        "        csv_writer = csv.writer(csv_file)\n",
        "        csv_writer.writerow(['website','num_of_stops', 'total_flight_duration','baggage_info','price','flight_info','flight_details',\n",
        "                             'flight_layover'])\n",
        "        driver = webdriver.Chrome(chrome_options)\n",
        "        stealth(driver,\n",
        "                languages=[\"en-US\", \"en\"],\n",
        "                vendor=\"Google Inc.\",\n",
        "                platform=\"Win32\",\n",
        "                webgl_vendor=\"Intel Inc.\",\n",
        "                renderer=\"Intel Iris OpenGL Engine\",\n",
        "                fix_hairline=True,\n",
        "                )\n",
        "\n",
        "\n",
        "        for i in range(1,8):\n",
        "                url = f'https://flights.booking.com/flights/HEL.AIRPORT-MAN.AIRPORT?type=ONEWAY&adults=1&cabinClass=ECONOMY&children=&from=HEL.AIRPORT&to=\\\n",
        "        MAN.AIRPORT&fromCountry=FI&toCountry=GB&fromLocationName=Helsinki-Vantaa+Airport&toLocationName=Manchester+Airport&depart=2023-12-18&sort=\\\n",
        "        BEST&travelPurpose=leisure&aid=304142&label=gen173nr-1FCAEoggI46AdIM1gEaEiIAQGYAQm4ARfIAQzYAQHoAQH4AQyIAgGoAgO4ArfQwKgGwAIB0gIkODczYWI5NTEtNzQ2Ni00Y2Yy\\\n",
        "        LWI3ZGMtZDgxZjU4OTVkZDM22AIG4AIB&page={i}'\n",
        "\n",
        "                driver.get(url=url)\n",
        "                # print(f'starting page {i}')\n",
        "                # driver.refresh()\n",
        "                driver.implicitly_wait(5)\n",
        "                if i ==1:\n",
        "                        driver.find_element(By.ID, 'onetrust-accept-btn-handler').click()\n",
        "                else:\n",
        "                     driver.refresh()\n",
        "                driver.implicitly_wait(5)\n",
        "                # full_page = driver.page_source\n",
        "                # page_soup = BeautifulSoup(full_page, 'lxml')\n",
        "                # flight_cards = page_soup.find_all('div', class_='css-209ldq')\n",
        "                # time.sleep(3)\n",
        "                flight_buttons = driver.find_elements(By.CLASS_NAME,'css-1nt3u54')\n",
        "                time.sleep(3)\n",
        "                # flight_cards = driver.find_elements(By.CLASS_NAME,'css-209ldq')\n",
        "\n",
        "                for button in flight_buttons:\n",
        "                        button.click()\n",
        "                        time.sleep(10)\n",
        "                        driver.find_element(By.CLASS_NAME,'SheetContainer-module__content___dCG7f')\n",
        "                        page_source = driver.page_source\n",
        "                        soup = BeautifulSoup(page_source,'lxml')\n",
        "\n",
        "                        # airline = card.find('div', class_='css-1dimx8f').text if card.find('div', class_='css-1dimx8f')!= None else ''\n",
        "                        # flight_time_div  = card.find_all('div', class_='css-1yl6p1k')\n",
        "                        # flight_time = str(flight_time_div[0].find('div', class_='Text-module__root--variant-strong_1___SNYxf').text) + ' - ' + \\\n",
        "                                # str (flight_time_div[1].find('div', class_='Text-module__root--variant-strong_1___SNYxf').text)\n",
        "                        no_of_stops = soup.find('div', class_='Text-module__root--variant-body_2___-DHx6 css-1mz4lto').text.split(' ')[0]\n",
        "\n",
        "\n",
        "                        total_flight_duration = soup.find('div', class_='Text-module__root--variant-body_2___-DHx6 css-1mz4lto').text.split(' ')[2]\n",
        "                        included_baggage = soup.find_all('div', class_='css-bmafnj')\n",
        "                        baggage_info = [bag.text for bag in included_baggage]\n",
        "                        price =  soup.find('div', class_='css-vxcmzt').text\n",
        "\n",
        "                        flight_infos = soup.find_all('div', class_='css-kf13q6')\n",
        "                        flight_info = []\n",
        "                        for info in flight_infos:\n",
        "                                leg = [content.text for content in info.contents]\n",
        "                                flight_info.append(leg)\n",
        "\n",
        "                        flight_details = soup.find_all('div', class_='css-1rr4qq7')\n",
        "                        flight_detail =[]\n",
        "                        for info in flight_details:\n",
        "                                leg = [content.text for content in info.contents]\n",
        "                                flight_detail.append(leg)\n",
        "\n",
        "\n",
        "                        flight_layovers = soup.find_all('div', class_='css-vvcyi3')\n",
        "                        flight_layover =[]\n",
        "                        for layover in flight_layovers:\n",
        "                                leg = [content.text for content in layover.contents]\n",
        "                                flight_layover.append(leg)\n",
        "\n",
        "                        csv_writer.writerow(['www.booking.com',no_of_stops, total_flight_duration,baggage_info,price,flight_info,\n",
        "                                                flight_details,flight_layover])\n",
        "\n",
        "                        # tracker = soup.find('div', class_='Text-module__root--variant-body_2___-DHx6 css-1mz4lto')\n",
        "                        actionChains = ActionChains(driver)\n",
        "\n",
        "                        actionChains.move_by_offset(2, 5)\n",
        "                        actionChains.click().perform()\n",
        "\n",
        "                        # close_modal = driver.find_element(By.XPATH,'/html/body/div[5]/div/div/div/div/div[1]/div[2]')\n",
        "                        # close_modal.click()\n",
        "\n",
        "                        # /html/body/div[5]/div/div/div/div/div[1]/div[2]\n",
        "                        # WebDriverWait(driver,20,(ElementClickInterceptedException)).until(EC.visibility_of_element_located((By.CLASS_NAME, 'Button-module__root--variant-tertiary-neutral___tEjZX'))).click()\n",
        "\n",
        "                        # driver.find_element(By.CLASS_NAME, 'Button-module__icon___sDvkX').click()\n",
        "                        time.sleep(3)\n",
        "\n",
        "                        # Button-module__aligner___Q44cD Button-module__root--alignment-top___nWUyH Button-module__root--alignment-end___SgZ34 DismissibleContainer-module__close___Um3-I SheetContainer-module__close___+WEtn\n",
        "\n",
        "                # Button-module__aligner___Q44cD Button-module__root--alignment-top___nWUyH Button-module__root--alignment-end___SgZ34 DismissibleContainer-module__close___Um3-I SheetContainer-module__close___+WEtn\n",
        "csv_file.close()\n",
        "driver.quit()\n",
        "\n",
        ""
      ],
      "metadata": {
        "id": "hr6xb69EJj9O"
      },
      "execution_count": null,
      "outputs": []
    },
    {
      "cell_type": "code",
      "source": [],
      "metadata": {
        "id": "AJD-ye0tWSWr"
      },
      "execution_count": null,
      "outputs": []
    }
  ]
}